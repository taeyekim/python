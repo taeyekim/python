{
 "cells": [
  {
   "cell_type": "markdown",
   "id": "f6007c04",
   "metadata": {},
   "source": [
    "# 웹 크롤링"
   ]
  },
  {
   "cell_type": "code",
   "execution_count": 15,
   "id": "683a4a3f",
   "metadata": {},
   "outputs": [],
   "source": [
    "# requests 패키지 가져오기\n",
    "import requests\n",
    "\n",
    "# 가져올 url 문자열로 입력\n",
    "url = 'https://www.naver.com'\n",
    "\n",
    "# requests의 get함수를 이용해 해당 url로 부터 html이 담긴 자료를 받아옴\n",
    "response = requests.get(url)\n",
    "\n",
    "# 우리가 얻고자 하는 html 문서가 여기에 담기게 됨\n",
    "html_text = response.text"
   ]
  },
  {
   "cell_type": "code",
   "execution_count": 17,
   "id": "067e2ee7",
   "metadata": {},
   "outputs": [],
   "source": [
    "# BeautifulSoup 패키지 불러오기\n",
    "# 주로 bs로 이름을 간단히 만들어서 사용함\n",
    "from bs4 import BeautifulSoup as bs\n",
    "\n",
    "# html을 잘 정리된 형태로 변환\n",
    "html = bs(html_text, 'html.parser')"
   ]
  },
  {
   "cell_type": "code",
   "execution_count": null,
   "id": "529baef4",
   "metadata": {},
   "outputs": [],
   "source": []
  },
  {
   "cell_type": "code",
   "execution_count": null,
   "id": "9b231194",
   "metadata": {},
   "outputs": [],
   "source": []
  },
  {
   "cell_type": "code",
   "execution_count": null,
   "id": "6d5ca9b1",
   "metadata": {},
   "outputs": [],
   "source": []
  }
 ],
 "metadata": {
  "kernelspec": {
   "display_name": "Python 3 (ipykernel)",
   "language": "python",
   "name": "python3"
  },
  "language_info": {
   "codemirror_mode": {
    "name": "ipython",
    "version": 3
   },
   "file_extension": ".py",
   "mimetype": "text/x-python",
   "name": "python",
   "nbconvert_exporter": "python",
   "pygments_lexer": "ipython3",
   "version": "3.10.9"
  }
 },
 "nbformat": 4,
 "nbformat_minor": 5
}
