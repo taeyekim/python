{
 "cells": [
  {
   "cell_type": "code",
   "execution_count": null,
   "id": "c14a7799",
   "metadata": {},
   "outputs": [],
   "source": []
  },
  {
   "cell_type": "code",
   "execution_count": null,
   "id": "e2f55f76",
   "metadata": {},
   "outputs": [],
   "source": []
  },
  {
   "cell_type": "code",
   "execution_count": null,
   "id": "87a0e5d2",
   "metadata": {},
   "outputs": [],
   "source": []
  },
  {
   "cell_type": "code",
   "execution_count": 2,
   "id": "9d1be2a6",
   "metadata": {},
   "outputs": [
    {
     "name": "stdout",
     "output_type": "stream",
     "text": [
      "시간 입력 >> 7533\n",
      "2시간 5분 33초\n"
     ]
    }
   ],
   "source": [
    "time = int(input(\"시간 입력 >> \"))\n",
    "hour = time // 3600\n",
    "minute = (time - 3600 * hour) // 60\n",
    "second = (time - 3600 * hour - 60 * minute)\n",
    "print(\"{}시간 {}분 {}초\".format(hour, minute, second))"
   ]
  },
  {
   "cell_type": "code",
   "execution_count": 6,
   "id": "6ee729a9",
   "metadata": {},
   "outputs": [
    {
     "name": "stdout",
     "output_type": "stream",
     "text": [
      "점수 입력 >> 70\n",
      "70점은 C학점 입니다.\n"
     ]
    }
   ],
   "source": [
    "num = int(input(\"점수 입력 >> \"))\n",
    "\n",
    "if (num <= 100 and num >= 90):\n",
    "    credit = 'A';\n",
    "elif num >= 80:\n",
    "    credit = 'B';\n",
    "elif num >= 70:\n",
    "    credit = 'C';\n",
    "elif num >= 60:\n",
    "    credit = 'D';\n",
    "else:\n",
    "    credit = 'F';\n",
    "print(f\"{num}점은 {credit}학점 입니다.\")\n"
   ]
  },
  {
   "cell_type": "code",
   "execution_count": 12,
   "id": "e41bf9b7",
   "metadata": {},
   "outputs": [
    {
     "name": "stdout",
     "output_type": "stream",
     "text": [
      "-----[SM Coffee]-----\n",
      "금액을 입력하세요 >> 300\n",
      "커피를 고르세요.\n",
      "[1]에스프레소(600원) [2]아메리카노(1000원) [3]카페라떼(1300원) >> 3\n",
      "돈이 부족해요.. T^T\n",
      "거스름돈 : 300원\n"
     ]
    }
   ],
   "source": [
    "print(\"-----[SM Coffee]-----\")\n",
    "money = int(input(\"금액을 입력하세요 >> \"))\n",
    "print(\"커피를 고르세요.\")\n",
    "select = int(input(\"[1]에스프레소(600원) [2]아메리카노(1000원) [3]카페라떼(1300원) >> \"))\n",
    "if select == 1 and money >= 600:\n",
    "    print(\"거스름돈 : {}원\".format(money - 600))\n",
    "elif select == 2 and money >= 1000:\n",
    "    print(\"거스름돈 : {}원\".format(money - 1000))\n",
    "elif select == 3 and money >= 1300:\n",
    "    print(\"거스름돈 : {}원\".format(money - 1300))\n",
    "elif select not in (1, 2, 3):\n",
    "    print(\"없는 선택지입니다.\")\n",
    "else:\n",
    "    print(\"돈이 부족해요.. T^T\")\n",
    "    print(\"거스름돈 : {}원\".format(money))\n",
    "    "
   ]
  },
  {
   "cell_type": "code",
   "execution_count": 21,
   "id": "fe35a232",
   "metadata": {},
   "outputs": [
    {
     "name": "stdout",
     "output_type": "stream",
     "text": [
      "{1: 600, 2: 1000, 3: 1300}\n"
     ]
    }
   ],
   "source": [
    "dict = {1:600, 2:1000, 3:1300}\n",
    "print(dict)"
   ]
  },
  {
   "cell_type": "code",
   "execution_count": null,
   "id": "2cbd9545",
   "metadata": {},
   "outputs": [],
   "source": []
  },
  {
   "cell_type": "code",
   "execution_count": null,
   "id": "5423456e",
   "metadata": {},
   "outputs": [],
   "source": []
  },
  {
   "cell_type": "code",
   "execution_count": null,
   "id": "e919dc4d",
   "metadata": {},
   "outputs": [],
   "source": []
  },
  {
   "cell_type": "code",
   "execution_count": null,
   "id": "d4157894",
   "metadata": {},
   "outputs": [],
   "source": []
  },
  {
   "cell_type": "code",
   "execution_count": null,
   "id": "6f8ab2af",
   "metadata": {},
   "outputs": [],
   "source": []
  }
 ],
 "metadata": {
  "kernelspec": {
   "display_name": "Python 3 (ipykernel)",
   "language": "python",
   "name": "python3"
  },
  "language_info": {
   "codemirror_mode": {
    "name": "ipython",
    "version": 3
   },
   "file_extension": ".py",
   "mimetype": "text/x-python",
   "name": "python",
   "nbconvert_exporter": "python",
   "pygments_lexer": "ipython3",
   "version": "3.10.9"
  }
 },
 "nbformat": 4,
 "nbformat_minor": 5
}
