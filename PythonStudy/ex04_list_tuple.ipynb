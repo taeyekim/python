{
 "cells": [
  {
   "cell_type": "code",
   "execution_count": 3,
   "id": "76f61b17",
   "metadata": {},
   "outputs": [
    {
     "name": "stdout",
     "output_type": "stream",
     "text": [
      "['a', 'b', 'c']\n",
      "b\n"
     ]
    }
   ],
   "source": [
    "li2 = [1, 2, 3, ['a', 'b', 'c']]\n",
    "temp = li2[3]\n",
    "print(temp)\n",
    "\n",
    "#li2에서 문자 'b'만 인덱싱해서 출력하시오\n",
    "print(li2[3][1]);"
   ]
  },
  {
   "cell_type": "code",
   "execution_count": 11,
   "id": "427587a6",
   "metadata": {},
   "outputs": [
    {
     "name": "stdout",
     "output_type": "stream",
     "text": [
      "[1, ['a', 'b', 'c'], 3, 4, 5]\n",
      "[1, ['a', 'b', 'c'], 3, 'd', 'e', 'f', 'g']\n",
      "['h', 'i', 'j', ['a', 'b', 'c'], 3, 'd', 'e', 'f', 'g']\n"
     ]
    }
   ],
   "source": [
    "arr = [1,2,3,4,5]\n",
    "arr[1] = ['a', 'b' ,'c']\n",
    "print(arr)\n",
    "\n",
    "arr[3:] = 'd','e','f','g'\n",
    "print(arr)\n",
    "\n",
    "arr[:1] = 'h', 'i', 'j'\n",
    "print(arr)"
   ]
  },
  {
   "cell_type": "code",
   "execution_count": 18,
   "id": "52409a96",
   "metadata": {
    "scrolled": true
   },
   "outputs": [
    {
     "name": "stdout",
     "output_type": "stream",
     "text": [
      "********************************************\n",
      "검색할 문자를 입력하세요 >> 수박\n",
      "수박은(는) 리스트의 2번째 인덱스에 들어있습니다.\n",
      "********************************************\n"
     ]
    }
   ],
   "source": [
    "lst = ['딸기', '바나나', '수박', '체리' '포도']\n",
    "print(\"********************************************\")\n",
    "my_str = input(\"검색할 문자를 입력하세요 >> \")\n",
    "\n",
    "if my_str in lst:\n",
    "    print(f\"{my_str}은(는) 리스트의 {lst.index(my_str)}번째 인덱스에 들어있습니다.\")\n",
    "else:\n",
    "    print(f\"{my_str}은 리스트에 들어있지 않습니다.\")\n",
    "print(\"********************************************\")"
   ]
  },
  {
   "cell_type": "code",
   "execution_count": 21,
   "id": "9aa62f17",
   "metadata": {},
   "outputs": [
    {
     "name": "stdout",
     "output_type": "stream",
     "text": [
      "********************\n",
      "검색할 문자를 입력하세요 : i\n",
      "i은(는) 3번 들어 있습니다.\n"
     ]
    }
   ],
   "source": [
    "s = \"Hi, My name is Mihee\"\n",
    "print(\"*\" * 20)\n",
    "str = input(\"검색할 문자를 입력하세요 : \")\n",
    "if str in s:\n",
    "    print(f\"{str}은(는) {s.count(str)}번 들어 있습니다.\")\n",
    "else:\n",
    "    print(f\"{str}은 문자열에 들어있지 않습니다.\")\n"
   ]
  },
  {
   "cell_type": "code",
   "execution_count": null,
   "id": "60905512",
   "metadata": {},
   "outputs": [],
   "source": [
    "print(\"*\"*35); print(f\"'{_s}'는 문자열에 들어있지 않습니다.\") if not (_s := input(\"검색할 문자를 입력하세요 : \")) in (s := \"Hi, My name is Mihee\") else print(f\"'{_s}'는 {s.index(_s)}번 들어 있습니다\"); print(\"*\"*35)"
   ]
  },
  {
   "cell_type": "code",
   "execution_count": null,
   "id": "9ba0f11e",
   "metadata": {},
   "outputs": [],
   "source": []
  },
  {
   "cell_type": "code",
   "execution_count": null,
   "id": "1f423016",
   "metadata": {},
   "outputs": [],
   "source": []
  },
  {
   "cell_type": "code",
   "execution_count": null,
   "id": "611ea60e",
   "metadata": {},
   "outputs": [],
   "source": []
  },
  {
   "cell_type": "code",
   "execution_count": null,
   "id": "e45da176",
   "metadata": {},
   "outputs": [],
   "source": []
  },
  {
   "cell_type": "code",
   "execution_count": null,
   "id": "dabc0358",
   "metadata": {},
   "outputs": [],
   "source": []
  },
  {
   "cell_type": "code",
   "execution_count": null,
   "id": "a77ae03c",
   "metadata": {},
   "outputs": [],
   "source": []
  }
 ],
 "metadata": {
  "kernelspec": {
   "display_name": "Python 3 (ipykernel)",
   "language": "python",
   "name": "python3"
  },
  "language_info": {
   "codemirror_mode": {
    "name": "ipython",
    "version": 3
   },
   "file_extension": ".py",
   "mimetype": "text/x-python",
   "name": "python",
   "nbconvert_exporter": "python",
   "pygments_lexer": "ipython3",
   "version": "3.10.9"
  }
 },
 "nbformat": 4,
 "nbformat_minor": 5
}
