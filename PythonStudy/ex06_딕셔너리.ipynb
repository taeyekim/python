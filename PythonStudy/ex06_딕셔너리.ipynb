{
 "cells": [
  {
   "cell_type": "code",
   "execution_count": null,
   "id": "f580bda1",
   "metadata": {},
   "outputs": [],
   "source": [
    "# 딕셔너리 생성\n",
    "# 딕셔너리명 = {key:value, key:value, , }\n",
    "# key는 변하지 않을 값, 동일한 key 는 여러 개 올 수 없다."
   ]
  },
  {
   "cell_type": "code",
   "execution_count": 2,
   "id": "9a537e1c",
   "metadata": {},
   "outputs": [
    {
     "name": "stdout",
     "output_type": "stream",
     "text": [
      "<class 'dict'>\n",
      "{1: '김미희', 2: '조미소'}\n"
     ]
    }
   ],
   "source": [
    "a = {}\n",
    "b = {'name':'김미희', 'pn':'010-1234-5678'}\n",
    "c = {1: '김미희', 2:'조미소'}\n",
    "\n",
    "print(type(a))\n",
    "print(c)"
   ]
  },
  {
   "cell_type": "code",
   "execution_count": 6,
   "id": "81a06311",
   "metadata": {},
   "outputs": [
    {
     "name": "stdout",
     "output_type": "stream",
     "text": [
      "{'name': '조미소', 'age': 20, 'phone': '010-2407-1465', 'birth': '07/05'}\n"
     ]
    }
   ],
   "source": [
    "# 딕셔너리 값 추가\n",
    "dic1 = {'name' : '김미희', 'age' : 20, 'phone':'010-2407-1465'}\n",
    "dic1['birth'] = '07/05'\n",
    "# 딕셔너리 값 변경\n",
    "dic1['name'] = '조미소'\n",
    "print(dic1)"
   ]
  },
  {
   "cell_type": "code",
   "execution_count": 7,
   "id": "90a05dd7",
   "metadata": {},
   "outputs": [
    {
     "name": "stdout",
     "output_type": "stream",
     "text": [
      "조미소\n",
      "07/05\n"
     ]
    }
   ],
   "source": [
    "# 딕셔너리 값 가져오기\n",
    "print(dic1['name'])\n",
    "print(dic1['birth'])"
   ]
  },
  {
   "cell_type": "code",
   "execution_count": 9,
   "id": "c259cadb",
   "metadata": {},
   "outputs": [
    {
     "name": "stdout",
     "output_type": "stream",
     "text": [
      "김미희\n"
     ]
    }
   ],
   "source": [
    "addr = [{'name':'김미희', 'age':20, 'phone' : '010-2407-1465'}, {'name' : '호엥', 'age':15, 'phone':'010-2930-9999'}]\n",
    "addr.append({})\n",
    "print(addr[0]['name'])"
   ]
  },
  {
   "cell_type": "code",
   "execution_count": 13,
   "id": "bf66decf",
   "metadata": {},
   "outputs": [
    {
     "name": "stdout",
     "output_type": "stream",
     "text": [
      "None\n"
     ]
    }
   ],
   "source": [
    "# 딕셔너리 값 가져오기2\n",
    "# 딕셔너리명.get(key)\n",
    "a = dic1.get('addr')\n",
    "print(a)\n",
    "# dic1.get['email']"
   ]
  },
  {
   "cell_type": "code",
   "execution_count": 15,
   "id": "b58b502f",
   "metadata": {},
   "outputs": [
    {
     "name": "stdout",
     "output_type": "stream",
     "text": [
      "dict_keys(['name', 'age', 'phone', 'birth'])\n",
      "['name', 'age', 'phone', 'birth']\n"
     ]
    }
   ],
   "source": [
    "# 딕셔너리 key만 가져오기\n",
    "print(dic1.keys())\n",
    "print(list(dic1.keys()))"
   ]
  },
  {
   "cell_type": "code",
   "execution_count": 16,
   "id": "94b30b40",
   "metadata": {},
   "outputs": [
    {
     "name": "stdout",
     "output_type": "stream",
     "text": [
      "dict_values(['조미소', 20, '010-2407-1465', '07/05'])\n",
      "['조미소', 20, '010-2407-1465', '07/05']\n"
     ]
    }
   ],
   "source": [
    "# 딕셔너리 value만 가져오기\n",
    "print(dic1.values())\n",
    "print(list(dic1.values()))"
   ]
  },
  {
   "cell_type": "code",
   "execution_count": 18,
   "id": "46332b1f",
   "metadata": {},
   "outputs": [
    {
     "name": "stdout",
     "output_type": "stream",
     "text": [
      "dict_items([('name', '조미소'), ('age', 20), ('phone', '010-2407-1465'), ('birth', '07/05')])\n",
      "[('name', '조미소'), ('age', 20), ('phone', '010-2407-1465'), ('birth', '07/05')]\n"
     ]
    }
   ],
   "source": [
    "# 딕셔너리 key, value 동시에 가져오기\n",
    "print(dic1.items())\n",
    "print(list(dic1.items()))"
   ]
  },
  {
   "cell_type": "code",
   "execution_count": 19,
   "id": "6f4b72df",
   "metadata": {},
   "outputs": [
    {
     "name": "stdout",
     "output_type": "stream",
     "text": [
      "{'name': '조미소', 'phone': '010-2407-1465', 'birth': '07/05'}\n"
     ]
    }
   ],
   "source": [
    "#값 삭제하기\n",
    "# del 딕셔너리명[key]\n",
    "del dic1['age']\n",
    "print(dic1)"
   ]
  },
  {
   "cell_type": "code",
   "execution_count": 20,
   "id": "23f29d65",
   "metadata": {},
   "outputs": [
    {
     "name": "stdout",
     "output_type": "stream",
     "text": [
      "{}\n"
     ]
    }
   ],
   "source": [
    "# 전체 삭제\n",
    "dic1.clear()\n",
    "print(dic1)"
   ]
  },
  {
   "cell_type": "code",
   "execution_count": 21,
   "id": "74a96310",
   "metadata": {},
   "outputs": [
    {
     "name": "stdout",
     "output_type": "stream",
     "text": [
      "True\n"
     ]
    },
    {
     "ename": "NameError",
     "evalue": "name 'dec2' is not defined",
     "output_type": "error",
     "traceback": [
      "\u001b[1;31m---------------------------------------------------------------------------\u001b[0m",
      "\u001b[1;31mNameError\u001b[0m                                 Traceback (most recent call last)",
      "Cell \u001b[1;32mIn[21], line 5\u001b[0m\n\u001b[0;32m      2\u001b[0m dic2 \u001b[38;5;241m=\u001b[39m {\u001b[38;5;124m'\u001b[39m\u001b[38;5;124mname\u001b[39m\u001b[38;5;124m'\u001b[39m:\u001b[38;5;124m'\u001b[39m\u001b[38;5;124m김미희\u001b[39m\u001b[38;5;124m'\u001b[39m, \u001b[38;5;124m'\u001b[39m\u001b[38;5;124mage\u001b[39m\u001b[38;5;124m'\u001b[39m:\u001b[38;5;241m20\u001b[39m, \u001b[38;5;124m'\u001b[39m\u001b[38;5;124mphone\u001b[39m\u001b[38;5;124m'\u001b[39m:\u001b[38;5;124m'\u001b[39m\u001b[38;5;124m010-2407-1465\u001b[39m\u001b[38;5;124m'\u001b[39m}\n\u001b[0;32m      4\u001b[0m \u001b[38;5;28mprint\u001b[39m(\u001b[38;5;124m'\u001b[39m\u001b[38;5;124mname\u001b[39m\u001b[38;5;124m'\u001b[39m \u001b[38;5;129;01min\u001b[39;00m dic2)\n\u001b[1;32m----> 5\u001b[0m \u001b[38;5;28mprint\u001b[39m(\u001b[38;5;124m'\u001b[39m\u001b[38;5;124mbirth\u001b[39m\u001b[38;5;124m'\u001b[39m \u001b[38;5;129;01min\u001b[39;00m \u001b[43mdec2\u001b[49m)\n\u001b[0;32m      6\u001b[0m \u001b[38;5;28mprint\u001b[39m(\u001b[38;5;241m20\u001b[39m \u001b[38;5;129;01min\u001b[39;00m dic2)\n",
      "\u001b[1;31mNameError\u001b[0m: name 'dec2' is not defined"
     ]
    }
   ],
   "source": [
    "# 딕셔너리를 멤버연산자와 같이 사용하기\n",
    "dic2 = {'name':'김미희', 'age':20, 'phone':'010-2407-1465'}\n",
    "\n",
    "print('name' in dic2)\n",
    "print('birth' in dec2)\n",
    "print(20 in dic2)"
   ]
  },
  {
   "cell_type": "code",
   "execution_count": 22,
   "id": "19527c5e",
   "metadata": {},
   "outputs": [
    {
     "name": "stdout",
     "output_type": "stream",
     "text": [
      "김미희\n",
      "20\n",
      "010-2407-1465\n"
     ]
    }
   ],
   "source": [
    "for value in dic2.values():\n",
    "    print(value)"
   ]
  },
  {
   "cell_type": "code",
   "execution_count": 23,
   "id": "eb1c2c50",
   "metadata": {},
   "outputs": [
    {
     "data": {
      "text/plain": [
       "True"
      ]
     },
     "execution_count": 23,
     "metadata": {},
     "output_type": "execute_result"
    }
   ],
   "source": [
    "20 in dic2.values()"
   ]
  },
  {
   "cell_type": "code",
   "execution_count": null,
   "id": "1d8d9c53",
   "metadata": {},
   "outputs": [],
   "source": []
  },
  {
   "cell_type": "code",
   "execution_count": null,
   "id": "95bf9005",
   "metadata": {},
   "outputs": [],
   "source": []
  },
  {
   "cell_type": "code",
   "execution_count": null,
   "id": "a09cf03d",
   "metadata": {},
   "outputs": [],
   "source": []
  },
  {
   "cell_type": "code",
   "execution_count": null,
   "id": "6be8208f",
   "metadata": {},
   "outputs": [],
   "source": []
  },
  {
   "cell_type": "code",
   "execution_count": null,
   "id": "b5713180",
   "metadata": {},
   "outputs": [],
   "source": []
  },
  {
   "cell_type": "code",
   "execution_count": null,
   "id": "873fab12",
   "metadata": {},
   "outputs": [],
   "source": []
  },
  {
   "cell_type": "code",
   "execution_count": null,
   "id": "bb17a81d",
   "metadata": {},
   "outputs": [],
   "source": []
  },
  {
   "cell_type": "code",
   "execution_count": null,
   "id": "c5cd36d0",
   "metadata": {},
   "outputs": [],
   "source": []
  },
  {
   "cell_type": "code",
   "execution_count": null,
   "id": "67fd468e",
   "metadata": {},
   "outputs": [],
   "source": []
  },
  {
   "cell_type": "code",
   "execution_count": null,
   "id": "53ec1195",
   "metadata": {},
   "outputs": [],
   "source": []
  }
 ],
 "metadata": {
  "kernelspec": {
   "display_name": "Python 3 (ipykernel)",
   "language": "python",
   "name": "python3"
  },
  "language_info": {
   "codemirror_mode": {
    "name": "ipython",
    "version": 3
   },
   "file_extension": ".py",
   "mimetype": "text/x-python",
   "name": "python",
   "nbconvert_exporter": "python",
   "pygments_lexer": "ipython3",
   "version": "3.10.9"
  }
 },
 "nbformat": 4,
 "nbformat_minor": 5
}
