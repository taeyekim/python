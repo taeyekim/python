{
 "cells": [
  {
   "cell_type": "code",
   "execution_count": 4,
   "id": "ce71d286",
   "metadata": {},
   "outputs": [],
   "source": [
    "def number_sum(num1, num2):\n",
    "    r = num1+num2\n",
    "    return r"
   ]
  },
  {
   "cell_type": "code",
   "execution_count": 5,
   "id": "0e7aca1c",
   "metadata": {
    "scrolled": true
   },
   "outputs": [
    {
     "name": "stdout",
     "output_type": "stream",
     "text": [
      "5\n"
     ]
    }
   ],
   "source": [
    "print(number_sum(2,3))"
   ]
  },
  {
   "cell_type": "code",
   "execution_count": 1,
   "id": "b1a326d8",
   "metadata": {},
   "outputs": [],
   "source": [
    "def cal(num1, num2 = 1, op = '+'): \n",
    "    \"\"\"덧셈과 뺄셈을 계산하는 함수\"\"\" # docstring 추가하기\n",
    "    return num1 + num2 if op == '+' else num1 - num2"
   ]
  },
  {
   "cell_type": "code",
   "execution_count": null,
   "id": "4b3a20fc",
   "metadata": {},
   "outputs": [],
   "source": [
    "num1 = int(input(\"첫 번째 정수 입력 >> \"))\n",
    "num2 = int(input(\"두 번째 정수 입력 >> \"))\n",
    "op = input(\"연산자 입력(+,-) >> \")\n",
    "result = cal(num1, num2, op)\n",
    "print(\"결과 {}\".format(result))"
   ]
  },
  {
   "cell_type": "code",
   "execution_count": 4,
   "id": "6cb990da",
   "metadata": {},
   "outputs": [
    {
     "name": "stdout",
     "output_type": "stream",
     "text": [
      "6\n",
      "9\n",
      "AB\n"
     ]
    }
   ],
   "source": [
    "print(cal(7, op = '-'))\n",
    "print(cal(8))\n",
    "\n",
    "print(cal('A','B'))"
   ]
  },
  {
   "cell_type": "code",
   "execution_count": 12,
   "id": "5edd29ff",
   "metadata": {},
   "outputs": [],
   "source": [
    "def add(*args):\n",
    "    total = 0\n",
    "    for x in args:\n",
    "        total += x\n",
    "    return total"
   ]
  },
  {
   "cell_type": "code",
   "execution_count": 13,
   "id": "4574b5b6",
   "metadata": {},
   "outputs": [
    {
     "data": {
      "text/plain": [
       "6"
      ]
     },
     "execution_count": 13,
     "metadata": {},
     "output_type": "execute_result"
    }
   ],
   "source": [
    "add(1,2,3)"
   ]
  },
  {
   "cell_type": "code",
   "execution_count": 14,
   "id": "cd009e1f",
   "metadata": {},
   "outputs": [],
   "source": [
    "def add(*args):\n",
    "    return sum(args)"
   ]
  },
  {
   "cell_type": "code",
   "execution_count": 15,
   "id": "ecbcceff",
   "metadata": {},
   "outputs": [
    {
     "data": {
      "text/plain": [
       "6"
      ]
     },
     "execution_count": 15,
     "metadata": {},
     "output_type": "execute_result"
    }
   ],
   "source": [
    "add (1,2,3)"
   ]
  },
  {
   "cell_type": "code",
   "execution_count": 23,
   "id": "054dffff",
   "metadata": {},
   "outputs": [],
   "source": [
    "# return 키워드는 한 번만 사용 가능하다.\n",
    "\n",
    "def add_sub(n1, n2):\n",
    "    return n1+n2, n1-n2, \"더하기 빼기 결과\""
   ]
  },
  {
   "cell_type": "code",
   "execution_count": 25,
   "id": "0c78da75",
   "metadata": {},
   "outputs": [
    {
     "name": "stdout",
     "output_type": "stream",
     "text": [
      "(12, -6, '더하기 빼기 결과')\n"
     ]
    }
   ],
   "source": [
    "re = add_sub(3,9)\n",
    "\n",
    "print(re)"
   ]
  },
  {
   "cell_type": "code",
   "execution_count": 26,
   "id": "abbfc911",
   "metadata": {},
   "outputs": [
    {
     "name": "stdout",
     "output_type": "stream",
     "text": [
      "12\n",
      "-6\n",
      "더하기 빼기 결과\n"
     ]
    }
   ],
   "source": [
    "ar, sr, str1 = add_sub(3,9)\n",
    "\n",
    "print(ar)\n",
    "print(sr)\n",
    "print(str1)"
   ]
  },
  {
   "cell_type": "code",
   "execution_count": 27,
   "id": "1b93df97",
   "metadata": {},
   "outputs": [],
   "source": [
    "a, b, c = (1, 2, 3)\n",
    "a, b, c = [1, 2, 3]"
   ]
  },
  {
   "cell_type": "code",
   "execution_count": 67,
   "id": "4b3b5dd8",
   "metadata": {},
   "outputs": [],
   "source": [
    "def isDuplicate(li): # 중복이 있으면 True, 없으면 False\n",
    "    for i in range(len(li)):\n",
    "        for j in range(i + 1, len(li)):\n",
    "            print(li[i], li[j])\n",
    "            if li[i] == li[j]:\n",
    "                return True\n",
    "    else:\n",
    "        return False"
   ]
  },
  {
   "cell_type": "code",
   "execution_count": 69,
   "id": "e10038a8",
   "metadata": {},
   "outputs": [
    {
     "name": "stdout",
     "output_type": "stream",
     "text": [
      "2 7\n",
      "2 3\n",
      "2 5\n",
      "2 8\n",
      "7 3\n",
      "7 5\n",
      "7 8\n",
      "3 5\n",
      "3 8\n",
      "5 8\n",
      "False\n"
     ]
    }
   ],
   "source": [
    "li1 = [2, 7, 3, 5, 8]\n",
    "check = isDuplicate(li1)\n",
    "print(check)"
   ]
  },
  {
   "cell_type": "code",
   "execution_count": null,
   "id": "68b502f1",
   "metadata": {},
   "outputs": [],
   "source": [
    "import random\n",
    "def createRandomNumber(cnt): # 개수만큼 랜덤리스트 뽑고 반환\n",
    "    randomList = [0,0,0]\n",
    "    for x in randomList:\n",
    "        x.append(random.randInt(1, 50)) # 1 ~ 50 포함\n",
    "        while isDuplicate(x) == :\n",
    "        "
   ]
  },
  {
   "cell_type": "code",
   "execution_count": null,
   "id": "3d90f190",
   "metadata": {},
   "outputs": [],
   "source": [
    "RandomLi = createRandomNumber(5)\n",
    "print(randomLi)"
   ]
  },
  {
   "cell_type": "code",
   "execution_count": null,
   "id": "58e52145",
   "metadata": {},
   "outputs": [],
   "source": [
    "def strikeBallCounting(li1, li2) : # return strike, ball 개수 반환"
   ]
  },
  {
   "cell_type": "code",
   "execution_count": null,
   "id": "fbfc7023",
   "metadata": {},
   "outputs": [],
   "source": [
    "li1 = [5,7,8]\n",
    "li2 = [5,8,7]\n",
    "strike, ball = strikeBallCounting(li1, li2)\n"
   ]
  },
  {
   "cell_type": "code",
   "execution_count": null,
   "id": "cc855e99",
   "metadata": {},
   "outputs": [],
   "source": [
    "print()\n",
    "randimLi = createRandomNumber(3) # main문\n",
    "# print(randomLi)"
   ]
  },
  {
   "cell_type": "code",
   "execution_count": null,
   "id": "2941409a",
   "metadata": {},
   "outputs": [],
   "source": []
  },
  {
   "cell_type": "code",
   "execution_count": null,
   "id": "2154615c",
   "metadata": {},
   "outputs": [],
   "source": []
  }
 ],
 "metadata": {
  "kernelspec": {
   "display_name": "Python 3 (ipykernel)",
   "language": "python",
   "name": "python3"
  },
  "language_info": {
   "codemirror_mode": {
    "name": "ipython",
    "version": 3
   },
   "file_extension": ".py",
   "mimetype": "text/x-python",
   "name": "python",
   "nbconvert_exporter": "python",
   "pygments_lexer": "ipython3",
   "version": "3.10.9"
  }
 },
 "nbformat": 4,
 "nbformat_minor": 5
}
