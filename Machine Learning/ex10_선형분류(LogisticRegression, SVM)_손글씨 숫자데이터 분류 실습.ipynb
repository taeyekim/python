{
 "cells": [
  {
   "cell_type": "markdown",
   "id": "2f8c9ecc-b779-4058-aea5-970949bb1cb9",
   "metadata": {},
   "source": [
    "### 선형회귀 이해하기\n",
    "- 성적데이터를 기반으로 선형회귀를 이해해보자"
   ]
  },
  {
   "cell_type": "code",
   "execution_count": 1,
   "id": "233099cb-4acb-4e01-9d54-7f0682289ab6",
   "metadata": {},
   "outputs": [],
   "source": [
    "# 성적 데이터 생성을 위한 라이브러리 꺼내오기\n",
    "import pandas as pd\n",
    "import matplotlib.pyplot as plt"
   ]
  },
  {
   "cell_type": "code",
   "execution_count": 11,
   "id": "16f10291-c432-4b57-9bc8-c5c248dceee9",
   "metadata": {},
   "outputs": [],
   "source": [
    "# warning 문구 제거\n",
    "import warnings\n",
    "warnings.filterwarnings('ignore')"
   ]
  },
  {
   "cell_type": "code",
   "execution_count": 6,
   "id": "afc6eb8c-a9ac-440c-89ab-47cce4e38cb8",
   "metadata": {},
   "outputs": [],
   "source": [
    "# 성적 데이터 생성\n",
    "data = pd.DataFrame([[2,20],[4,40],[8,80],[9,90]], index=['준영','종화','경민','승훈'], columns=['시간','성적'])"
   ]
  },
  {
   "cell_type": "markdown",
   "id": "1ece488b-8fcf-4d2e-a8cb-d002aed5b478",
   "metadata": {},
   "source": [
    "### MSE가 최소가 되는 최적의 w,b를 찾는 방법\n",
    "- MSE : 평균제곱오차(Mean Squared Error) --> 비용함수(cost)\n",
    "- 1. 수학공식을 이용한 해석적 모델\n",
    "- 2. 경사하강법(XGBoost에서 오차 계산하는 방법)"
   ]
  },
  {
   "cell_type": "markdown",
   "id": "28cc5d50-0e63-48c8-a1ce-d8f57b1903fa",
   "metadata": {},
   "source": [
    "### 1. 수학 공식을 이용한 해석적 모델\n",
    "- LinearRegression\n",
    "- 공식을 이용해서 적은 계산으로 한번에 최적의 선형함수를 찾는 방법\n",
    "- 공식이 완벽하지 않을경우 잘 못 찾을수도 있고,\n",
    "- 공식이 잘못되었을 경우 고칠 수 없다는 단점이 있다. ==> 추후 규제를 접목하여 개선가능하다."
   ]
  },
  {
   "cell_type": "code",
   "execution_count": 4,
   "id": "32ca6469-df9d-4a08-8723-5508dd786bc7",
   "metadata": {},
   "outputs": [],
   "source": [
    "from sklearn.linear_model import LinearRegression"
   ]
  },
  {
   "cell_type": "code",
   "execution_count": 7,
   "id": "43579b8f-ca8c-4d5b-a23a-790888cf4f46",
   "metadata": {},
   "outputs": [
    {
     "data": {
      "text/html": [
       "<style>#sk-container-id-1 {color: black;background-color: white;}#sk-container-id-1 pre{padding: 0;}#sk-container-id-1 div.sk-toggleable {background-color: white;}#sk-container-id-1 label.sk-toggleable__label {cursor: pointer;display: block;width: 100%;margin-bottom: 0;padding: 0.3em;box-sizing: border-box;text-align: center;}#sk-container-id-1 label.sk-toggleable__label-arrow:before {content: \"▸\";float: left;margin-right: 0.25em;color: #696969;}#sk-container-id-1 label.sk-toggleable__label-arrow:hover:before {color: black;}#sk-container-id-1 div.sk-estimator:hover label.sk-toggleable__label-arrow:before {color: black;}#sk-container-id-1 div.sk-toggleable__content {max-height: 0;max-width: 0;overflow: hidden;text-align: left;background-color: #f0f8ff;}#sk-container-id-1 div.sk-toggleable__content pre {margin: 0.2em;color: black;border-radius: 0.25em;background-color: #f0f8ff;}#sk-container-id-1 input.sk-toggleable__control:checked~div.sk-toggleable__content {max-height: 200px;max-width: 100%;overflow: auto;}#sk-container-id-1 input.sk-toggleable__control:checked~label.sk-toggleable__label-arrow:before {content: \"▾\";}#sk-container-id-1 div.sk-estimator input.sk-toggleable__control:checked~label.sk-toggleable__label {background-color: #d4ebff;}#sk-container-id-1 div.sk-label input.sk-toggleable__control:checked~label.sk-toggleable__label {background-color: #d4ebff;}#sk-container-id-1 input.sk-hidden--visually {border: 0;clip: rect(1px 1px 1px 1px);clip: rect(1px, 1px, 1px, 1px);height: 1px;margin: -1px;overflow: hidden;padding: 0;position: absolute;width: 1px;}#sk-container-id-1 div.sk-estimator {font-family: monospace;background-color: #f0f8ff;border: 1px dotted black;border-radius: 0.25em;box-sizing: border-box;margin-bottom: 0.5em;}#sk-container-id-1 div.sk-estimator:hover {background-color: #d4ebff;}#sk-container-id-1 div.sk-parallel-item::after {content: \"\";width: 100%;border-bottom: 1px solid gray;flex-grow: 1;}#sk-container-id-1 div.sk-label:hover label.sk-toggleable__label {background-color: #d4ebff;}#sk-container-id-1 div.sk-serial::before {content: \"\";position: absolute;border-left: 1px solid gray;box-sizing: border-box;top: 0;bottom: 0;left: 50%;z-index: 0;}#sk-container-id-1 div.sk-serial {display: flex;flex-direction: column;align-items: center;background-color: white;padding-right: 0.2em;padding-left: 0.2em;position: relative;}#sk-container-id-1 div.sk-item {position: relative;z-index: 1;}#sk-container-id-1 div.sk-parallel {display: flex;align-items: stretch;justify-content: center;background-color: white;position: relative;}#sk-container-id-1 div.sk-item::before, #sk-container-id-1 div.sk-parallel-item::before {content: \"\";position: absolute;border-left: 1px solid gray;box-sizing: border-box;top: 0;bottom: 0;left: 50%;z-index: -1;}#sk-container-id-1 div.sk-parallel-item {display: flex;flex-direction: column;z-index: 1;position: relative;background-color: white;}#sk-container-id-1 div.sk-parallel-item:first-child::after {align-self: flex-end;width: 50%;}#sk-container-id-1 div.sk-parallel-item:last-child::after {align-self: flex-start;width: 50%;}#sk-container-id-1 div.sk-parallel-item:only-child::after {width: 0;}#sk-container-id-1 div.sk-dashed-wrapped {border: 1px dashed gray;margin: 0 0.4em 0.5em 0.4em;box-sizing: border-box;padding-bottom: 0.4em;background-color: white;}#sk-container-id-1 div.sk-label label {font-family: monospace;font-weight: bold;display: inline-block;line-height: 1.2em;}#sk-container-id-1 div.sk-label-container {text-align: center;}#sk-container-id-1 div.sk-container {/* jupyter's `normalize.less` sets `[hidden] { display: none; }` but bootstrap.min.css set `[hidden] { display: none !important; }` so we also need the `!important` here to be able to override the default hidden behavior on the sphinx rendered scikit-learn.org. See: https://github.com/scikit-learn/scikit-learn/issues/21755 */display: inline-block !important;position: relative;}#sk-container-id-1 div.sk-text-repr-fallback {display: none;}</style><div id=\"sk-container-id-1\" class=\"sk-top-container\"><div class=\"sk-text-repr-fallback\"><pre>LinearRegression()</pre><b>In a Jupyter environment, please rerun this cell to show the HTML representation or trust the notebook. <br />On GitHub, the HTML representation is unable to render, please try loading this page with nbviewer.org.</b></div><div class=\"sk-container\" hidden><div class=\"sk-item\"><div class=\"sk-estimator sk-toggleable\"><input class=\"sk-toggleable__control sk-hidden--visually\" id=\"sk-estimator-id-1\" type=\"checkbox\" checked><label for=\"sk-estimator-id-1\" class=\"sk-toggleable__label sk-toggleable__label-arrow\">LinearRegression</label><div class=\"sk-toggleable__content\"><pre>LinearRegression()</pre></div></div></div></div></div>"
      ],
      "text/plain": [
       "LinearRegression()"
      ]
     },
     "execution_count": 7,
     "metadata": {},
     "output_type": "execute_result"
    }
   ],
   "source": [
    "# 모델 생성 및 하이퍼파라미터 설정 - 하이퍼파라미터 적용 X\n",
    "linear_model = LinearRegression()\n",
    "\n",
    "# 학습\n",
    "linear_model.fit(data[['시간']], data['성적'])\n",
    "# data[['시간']] : 문제데이터, 2차원으로 생성\n",
    "# data['성적'] : 정답데이터, 1차원으로 생ㅇ성"
   ]
  },
  {
   "cell_type": "markdown",
   "id": "8bdb515e-6306-4cc0-83a4-4caec70287b0",
   "metadata": {},
   "source": [
    "### y=wx+b (1개의 문제)"
   ]
  },
  {
   "cell_type": "code",
   "execution_count": 8,
   "id": "44ac3496-de44-4c75-a73b-416f81d17f72",
   "metadata": {},
   "outputs": [
    {
     "name": "stdout",
     "output_type": "stream",
     "text": [
      "기울기, 가중치 :  [10.]\n",
      "절편, 편향 :  7.105427357601002e-15\n"
     ]
    }
   ],
   "source": [
    "# 기울기, 가중치 출력 - w\n",
    "print('기울기, 가중치 : ', linear_model.coef_)\n",
    "# 절편, 편향 출력 - b\n",
    "print('절편, 편향 : ', linear_model.intercept_)"
   ]
  },
  {
   "cell_type": "code",
   "execution_count": 12,
   "id": "3edccd2e-85ba-4e6e-abc7-c0ff0da50a11",
   "metadata": {},
   "outputs": [
    {
     "data": {
      "text/plain": [
       "array([70.])"
      ]
     },
     "execution_count": 12,
     "metadata": {},
     "output_type": "execute_result"
    }
   ],
   "source": [
    "# 예측 - 7시간 공부했을 때 몇점 일까?\n",
    "linear_model.predict([[7]])"
   ]
  },
  {
   "cell_type": "markdown",
   "id": "6aad432e-b550-4725-8e00-67d51895c3e6",
   "metadata": {},
   "source": [
    "### H(x)\n",
    "-가설함수"
   ]
  },
  {
   "cell_type": "code",
   "execution_count": 13,
   "id": "99dd38bf-8826-4a06-b717-38151f345736",
   "metadata": {},
   "outputs": [],
   "source": [
    "# 함수정의\n",
    "# 매개변수 : 가중치, 문제\n",
    "def h(w,x) :\n",
    "    return w * x + 0"
   ]
  },
  {
   "cell_type": "markdown",
   "id": "44a16fa4-e245-49d1-b2f6-6653dd0f7941",
   "metadata": {},
   "source": [
    "### 비용함수(Cost Function)\n",
    "- 비용 = 오차"
   ]
  },
  {
   "cell_type": "code",
   "execution_count": 14,
   "id": "de274560-af28-4c3b-b95f-5e000b9b6247",
   "metadata": {},
   "outputs": [],
   "source": [
    "# 비용함수 정의\n",
    "# data : 문제 값\n",
    "# target : 정답(실제 값)\n",
    "# weight : 가중치\n",
    "\n",
    "def cost(data, target, weight) :\n",
    "    # 예측하는 값\n",
    "    y_pre = h(weight, data)\n",
    "    # 평균제곱오차 = ((예측값 - 실제값)**2).mean()\n",
    "    error = ((y_pre - target) **2).mean()\n",
    "    return error"
   ]
  },
  {
   "cell_type": "code",
   "execution_count": 19,
   "id": "4fcfa165-ee5c-4394-9064-a1d3f6e2c1f1",
   "metadata": {},
   "outputs": [
    {
     "data": {
      "text/plain": [
       "371.25"
      ]
     },
     "execution_count": 19,
     "metadata": {},
     "output_type": "execute_result"
    }
   ],
   "source": [
    "# 가중치에 따른 오차값 확인\n",
    "cost(data['시간'], data['성적'], 7)"
   ]
  },
  {
   "cell_type": "code",
   "execution_count": 20,
   "id": "8178c0dc-5d61-44df-b08e-9d6639a3d93d",
   "metadata": {},
   "outputs": [
    {
     "data": {
      "text/plain": [
       "165.0"
      ]
     },
     "execution_count": 20,
     "metadata": {},
     "output_type": "execute_result"
    }
   ],
   "source": [
    "# 가중치에 따른 오차값 확인\n",
    "cost(data['시간'], data['성적'], 8)"
   ]
  },
  {
   "cell_type": "code",
   "execution_count": 21,
   "id": "f81c1647-9fd1-4cb0-b605-3977e59793ba",
   "metadata": {},
   "outputs": [
    {
     "data": {
      "text/plain": [
       "0.0"
      ]
     },
     "execution_count": 21,
     "metadata": {},
     "output_type": "execute_result"
    }
   ],
   "source": [
    "# 가중치에 따른 오차값 확인\n",
    "cost(data['시간'], data['성적'], 10)"
   ]
  },
  {
   "cell_type": "code",
   "execution_count": 24,
   "id": "14cdd6c1-b184-45f7-9d38-9901f76acca5",
   "metadata": {},
   "outputs": [
    {
     "data": {
      "text/plain": [
       "[3341.25,\n",
       " 2640.0,\n",
       " 2021.25,\n",
       " 1485.0,\n",
       " 1031.25,\n",
       " 660.0,\n",
       " 371.25,\n",
       " 165.0,\n",
       " 41.25,\n",
       " 0.0,\n",
       " 41.25,\n",
       " 165.0,\n",
       " 371.25,\n",
       " 660.0,\n",
       " 1031.25]"
      ]
     },
     "execution_count": 24,
     "metadata": {},
     "output_type": "execute_result"
    }
   ],
   "source": [
    "# 가중치 변화에 따른 비용함수의 변화를 그래프로 확인\n",
    "cost_list = []\n",
    "\n",
    "for w in range(1,16) :\n",
    "    err=cost(data['시간'], data['성적'], w)\n",
    "    cost_list.append(err)\n",
    "cost_list"
   ]
  },
  {
   "cell_type": "code",
   "execution_count": 26,
   "id": "08a0ce54-b20e-4e2d-9167-96550aeea9db",
   "metadata": {},
   "outputs": [
    {
     "data": {
      "text/plain": [
       "<function matplotlib.pyplot.show(close=None, block=None)>"
      ]
     },
     "execution_count": 26,
     "metadata": {},
     "output_type": "execute_result"
    },
    {
     "data": {
      "image/png": "[encoded data removed]",
      "text/plain": [
       "<Figure size 640x480 with 1 Axes>"
      ]
     },
     "metadata": {},
     "output_type": "display_data"
    }
   ],
   "source": [
    "plt.plot(range(1,16), cost_list)\n",
    "plt.grid()\n",
    "plt.show"
   ]
  },
  {
   "cell_type": "code",
   "execution_count": 27,
   "id": "059b2241-0d7f-49f5-bb82-1c4358f6a23a",
   "metadata": {},
   "outputs": [
    {
     "data": {
      "text/plain": [
       "1.0"
      ]
     },
     "execution_count": 27,
     "metadata": {},
     "output_type": "execute_result"
    }
   ],
   "source": [
    "linear_model.score(data[['시간']], data['성적'])\n",
    "\n",
    "# 분류모델에서 score 는 정확도\n",
    "# 회귀모델에서 score(MSE를 기반으로한 R2score) 는 유사도 : -1 ~ 1"
   ]
  },
  {
   "cell_type": "markdown",
   "id": "4ed05f25-d9a5-45ba-9fba-fe2da43010ce",
   "metadata": {},
   "source": [
    "### 2. 경사하강법\n",
    "- SGDRegressor\n",
    "- 점진적으로 오차가 작은 선형함수를 찾아가는 방법\n",
    "- 오차를 수정하는 방향으로 그래프를 다시 그려준다\n",
    "- 선형함수를 잘못 찾았을 경우 수정이 가능하다\n",
    "- 점진적으로 찾아가므로 계산량이 많아서 시간이 오래 걸린다.\n",
    "- 학습율(learning rate)\n",
    "    - 너무 크게 설정하면 오차가 커진다(발산)\n",
    "    - 너무 작게 설정하면 국소지역점에 빠져서 최적의 해를 찾지 못한다."
   ]
  },
  {
   "cell_type": "code",
   "execution_count": 28,
   "id": "5137ff0b-61ca-40c9-a538-5edde40f868d",
   "metadata": {},
   "outputs": [],
   "source": [
    "from sklearn.linear_model import SGDRegressor"
   ]
  },
  {
   "cell_type": "code",
   "execution_count": 29,
   "id": "888c6bc3-5115-4d55-9c83-e69b9e7f15c2",
   "metadata": {},
   "outputs": [
    {
     "name": "stdout",
     "output_type": "stream",
     "text": [
      "-- Epoch 1\n",
      "Norm: 1.27, NNZs: 1, Bias: 0.176580, T: 4, Avg. loss: 1896.040925\n",
      "Total training time: 0.00 seconds.\n",
      "-- Epoch 2\n",
      "Norm: 2.12, NNZs: 1, Bias: 0.296711, T: 8, Avg. loss: 1467.919165\n",
      "Total training time: 0.00 seconds.\n",
      "-- Epoch 3\n",
      "Norm: 2.81, NNZs: 1, Bias: 0.393454, T: 12, Avg. loss: 1199.342083\n",
      "Total training time: 0.00 seconds.\n",
      "-- Epoch 4\n",
      "Norm: 3.39, NNZs: 1, Bias: 0.474889, T: 16, Avg. loss: 996.027353\n",
      "Total training time: 0.00 seconds.\n",
      "-- Epoch 5\n",
      "Norm: 3.90, NNZs: 1, Bias: 0.545143, T: 20, Avg. loss: 840.377781\n",
      "Total training time: 0.00 seconds.\n",
      "-- Epoch 6\n",
      "Norm: 4.34, NNZs: 1, Bias: 0.606999, T: 24, Avg. loss: 714.363003\n",
      "Total training time: 0.00 seconds.\n",
      "-- Epoch 7\n",
      "Norm: 4.74, NNZs: 1, Bias: 0.661788, T: 28, Avg. loss: 612.701368\n",
      "Total training time: 0.00 seconds.\n",
      "-- Epoch 8\n",
      "Norm: 5.09, NNZs: 1, Bias: 0.711057, T: 32, Avg. loss: 527.916188\n",
      "Total training time: 0.00 seconds.\n",
      "-- Epoch 9\n",
      "Norm: 5.41, NNZs: 1, Bias: 0.755340, T: 36, Avg. loss: 457.656618\n",
      "Total training time: 0.00 seconds.\n",
      "-- Epoch 10\n",
      "Norm: 5.70, NNZs: 1, Bias: 0.795667, T: 40, Avg. loss: 398.013697\n",
      "Total training time: 0.00 seconds.\n",
      "-- Epoch 11\n",
      "Norm: 5.97, NNZs: 1, Bias: 0.832260, T: 44, Avg. loss: 347.742450\n",
      "Total training time: 0.00 seconds.\n",
      "-- Epoch 12\n",
      "Norm: 6.21, NNZs: 1, Bias: 0.865869, T: 48, Avg. loss: 304.546783\n",
      "Total training time: 0.00 seconds.\n",
      "-- Epoch 13\n",
      "Norm: 6.43, NNZs: 1, Bias: 0.896575, T: 52, Avg. loss: 267.698813\n",
      "Total training time: 0.00 seconds.\n",
      "-- Epoch 14\n",
      "Norm: 6.64, NNZs: 1, Bias: 0.924953, T: 56, Avg. loss: 235.750905\n",
      "Total training time: 0.00 seconds.\n",
      "-- Epoch 15\n",
      "Norm: 6.83, NNZs: 1, Bias: 0.951014, T: 60, Avg. loss: 208.249264\n",
      "Total training time: 0.00 seconds.\n",
      "-- Epoch 16\n",
      "Norm: 7.00, NNZs: 1, Bias: 0.975215, T: 64, Avg. loss: 184.236406\n",
      "Total training time: 0.00 seconds.\n",
      "-- Epoch 17\n",
      "Norm: 7.16, NNZs: 1, Bias: 0.997530, T: 68, Avg. loss: 163.416305\n",
      "Total training time: 0.00 seconds.\n",
      "-- Epoch 18\n",
      "Norm: 7.31, NNZs: 1, Bias: 1.018331, T: 72, Avg. loss: 145.133267\n",
      "Total training time: 0.00 seconds.\n",
      "-- Epoch 19\n",
      "Norm: 7.45, NNZs: 1, Bias: 1.037576, T: 76, Avg. loss: 129.187539\n",
      "Total training time: 0.00 seconds.\n",
      "-- Epoch 20\n",
      "Norm: 7.58, NNZs: 1, Bias: 1.055570, T: 80, Avg. loss: 115.118037\n",
      "Total training time: 0.00 seconds.\n",
      "-- Epoch 21\n",
      "Norm: 7.71, NNZs: 1, Bias: 1.072264, T: 84, Avg. loss: 102.786370\n",
      "Total training time: 0.00 seconds.\n",
      "-- Epoch 22\n",
      "Norm: 7.82, NNZs: 1, Bias: 1.087914, T: 88, Avg. loss: 91.861436\n",
      "Total training time: 0.00 seconds.\n",
      "-- Epoch 23\n",
      "Norm: 7.93, NNZs: 1, Bias: 1.102467, T: 92, Avg. loss: 82.245300\n",
      "Total training time: 0.00 seconds.\n",
      "-- Epoch 24\n",
      "Norm: 8.03, NNZs: 1, Bias: 1.116140, T: 96, Avg. loss: 73.696113\n",
      "Total training time: 0.00 seconds.\n",
      "-- Epoch 25\n",
      "Norm: 8.12, NNZs: 1, Bias: 1.128879, T: 100, Avg. loss: 66.143344\n",
      "Total training time: 0.00 seconds.\n",
      "-- Epoch 26\n",
      "Norm: 8.21, NNZs: 1, Bias: 1.140872, T: 104, Avg. loss: 59.407812\n",
      "Total training time: 0.00 seconds.\n",
      "-- Epoch 27\n",
      "Norm: 8.29, NNZs: 1, Bias: 1.152064, T: 108, Avg. loss: 53.437964\n",
      "Total training time: 0.00 seconds.\n",
      "-- Epoch 28\n",
      "Norm: 8.37, NNZs: 1, Bias: 1.162619, T: 112, Avg. loss: 48.099448\n",
      "Total training time: 0.00 seconds.\n",
      "-- Epoch 29\n",
      "Norm: 8.44, NNZs: 1, Bias: 1.172483, T: 116, Avg. loss: 43.354100\n",
      "Total training time: 0.00 seconds.\n",
      "-- Epoch 30\n",
      "Norm: 8.51, NNZs: 1, Bias: 1.181799, T: 120, Avg. loss: 39.100132\n",
      "Total training time: 0.00 seconds.\n",
      "-- Epoch 31\n",
      "Norm: 8.57, NNZs: 1, Bias: 1.190516, T: 124, Avg. loss: 35.308980\n",
      "Total training time: 0.00 seconds.\n",
      "-- Epoch 32\n",
      "Norm: 8.64, NNZs: 1, Bias: 1.198760, T: 128, Avg. loss: 31.902832\n",
      "Total training time: 0.00 seconds.\n",
      "-- Epoch 33\n",
      "Norm: 8.69, NNZs: 1, Bias: 1.206483, T: 132, Avg. loss: 28.860096\n",
      "Total training time: 0.00 seconds.\n",
      "-- Epoch 34\n",
      "Norm: 8.75, NNZs: 1, Bias: 1.213795, T: 136, Avg. loss: 26.120816\n",
      "Total training time: 0.00 seconds.\n",
      "-- Epoch 35\n",
      "Norm: 8.80, NNZs: 1, Bias: 1.220652, T: 140, Avg. loss: 23.668529\n",
      "Total training time: 0.00 seconds.\n",
      "-- Epoch 36\n",
      "Norm: 8.85, NNZs: 1, Bias: 1.227150, T: 144, Avg. loss: 21.456712\n",
      "Total training time: 0.00 seconds.\n",
      "-- Epoch 37\n",
      "Norm: 8.89, NNZs: 1, Bias: 1.233250, T: 148, Avg. loss: 19.472711\n",
      "Total training time: 0.00 seconds.\n",
      "-- Epoch 38\n",
      "Norm: 8.94, NNZs: 1, Bias: 1.239035, T: 152, Avg. loss: 17.680200\n",
      "Total training time: 0.00 seconds.\n",
      "-- Epoch 39\n",
      "Norm: 8.98, NNZs: 1, Bias: 1.244469, T: 156, Avg. loss: 16.069384\n",
      "Total training time: 0.00 seconds.\n",
      "-- Epoch 40\n",
      "Norm: 9.02, NNZs: 1, Bias: 1.249628, T: 160, Avg. loss: 14.611736\n",
      "Total training time: 0.00 seconds.\n",
      "-- Epoch 41\n",
      "Norm: 9.05, NNZs: 1, Bias: 1.254477, T: 164, Avg. loss: 13.299625\n",
      "Total training time: 0.00 seconds.\n",
      "-- Epoch 42\n",
      "Norm: 9.09, NNZs: 1, Bias: 1.259084, T: 168, Avg. loss: 12.110534\n",
      "Total training time: 0.00 seconds.\n",
      "-- Epoch 43\n",
      "Norm: 9.12, NNZs: 1, Bias: 1.263416, T: 172, Avg. loss: 11.038479\n",
      "Total training time: 0.00 seconds.\n",
      "-- Epoch 44\n",
      "Norm: 9.15, NNZs: 1, Bias: 1.267534, T: 176, Avg. loss: 10.065606\n",
      "Total training time: 0.00 seconds.\n",
      "-- Epoch 45\n",
      "Norm: 9.18, NNZs: 1, Bias: 1.271409, T: 180, Avg. loss: 9.187196\n",
      "Total training time: 0.00 seconds.\n",
      "-- Epoch 46\n",
      "Norm: 9.21, NNZs: 1, Bias: 1.275095, T: 184, Avg. loss: 8.389030\n",
      "Total training time: 0.00 seconds.\n",
      "-- Epoch 47\n",
      "Norm: 9.24, NNZs: 1, Bias: 1.278563, T: 188, Avg. loss: 7.667368\n",
      "Total training time: 0.00 seconds.\n",
      "-- Epoch 48\n",
      "Norm: 9.26, NNZs: 1, Bias: 1.281865, T: 192, Avg. loss: 7.010841\n",
      "Total training time: 0.00 seconds.\n",
      "-- Epoch 49\n",
      "Norm: 9.29, NNZs: 1, Bias: 1.284972, T: 196, Avg. loss: 6.416471\n",
      "Total training time: 0.00 seconds.\n",
      "-- Epoch 50\n",
      "Norm: 9.31, NNZs: 1, Bias: 1.287932, T: 200, Avg. loss: 5.875134\n",
      "Total training time: 0.00 seconds.\n",
      "-- Epoch 51\n",
      "Norm: 9.33, NNZs: 1, Bias: 1.290718, T: 204, Avg. loss: 5.384447\n",
      "Total training time: 0.00 seconds.\n",
      "-- Epoch 52\n",
      "Norm: 9.35, NNZs: 1, Bias: 1.293372, T: 208, Avg. loss: 4.937064\n",
      "Total training time: 0.00 seconds.\n",
      "-- Epoch 53\n",
      "Norm: 9.37, NNZs: 1, Bias: 1.295871, T: 212, Avg. loss: 4.531069\n",
      "Total training time: 0.00 seconds.\n",
      "-- Epoch 54\n",
      "Norm: 9.39, NNZs: 1, Bias: 1.298252, T: 216, Avg. loss: 4.160529\n",
      "Total training time: 0.00 seconds.\n",
      "-- Epoch 55\n",
      "Norm: 9.41, NNZs: 1, Bias: 1.300494, T: 220, Avg. loss: 3.823898\n",
      "Total training time: 0.00 seconds.\n",
      "-- Epoch 56\n",
      "Norm: 9.43, NNZs: 1, Bias: 1.302631, T: 224, Avg. loss: 3.516370\n",
      "Total training time: 0.00 seconds.\n",
      "-- Epoch 57\n",
      "Norm: 9.44, NNZs: 1, Bias: 1.304643, T: 228, Avg. loss: 3.236691\n",
      "Total training time: 0.00 seconds.\n",
      "-- Epoch 58\n",
      "Norm: 9.46, NNZs: 1, Bias: 1.306562, T: 232, Avg. loss: 2.980959\n",
      "Total training time: 0.00 seconds.\n",
      "-- Epoch 59\n",
      "Norm: 9.48, NNZs: 1, Bias: 1.308368, T: 236, Avg. loss: 2.748153\n",
      "Total training time: 0.00 seconds.\n",
      "-- Epoch 60\n",
      "Norm: 9.49, NNZs: 1, Bias: 1.310090, T: 240, Avg. loss: 2.535097\n",
      "Total training time: 0.00 seconds.\n",
      "-- Epoch 61\n",
      "Norm: 9.50, NNZs: 1, Bias: 1.311710, T: 244, Avg. loss: 2.340955\n",
      "Total training time: 0.00 seconds.\n",
      "-- Epoch 62\n",
      "Norm: 9.52, NNZs: 1, Bias: 1.313255, T: 248, Avg. loss: 2.163136\n",
      "Total training time: 0.00 seconds.\n",
      "-- Epoch 63\n",
      "Norm: 9.53, NNZs: 1, Bias: 1.314708, T: 252, Avg. loss: 2.000955\n",
      "Total training time: 0.00 seconds.\n",
      "-- Epoch 64\n",
      "Norm: 9.54, NNZs: 1, Bias: 1.316095, T: 256, Avg. loss: 1.852293\n",
      "Total training time: 0.00 seconds.\n",
      "-- Epoch 65\n",
      "Norm: 9.55, NNZs: 1, Bias: 1.317397, T: 260, Avg. loss: 1.716586\n",
      "Total training time: 0.00 seconds.\n",
      "-- Epoch 66\n",
      "Norm: 9.56, NNZs: 1, Bias: 1.318640, T: 264, Avg. loss: 1.592096\n",
      "Total training time: 0.00 seconds.\n",
      "-- Epoch 67\n",
      "Norm: 9.57, NNZs: 1, Bias: 1.319808, T: 268, Avg. loss: 1.478360\n",
      "Total training time: 0.00 seconds.\n",
      "-- Epoch 68\n",
      "Norm: 9.58, NNZs: 1, Bias: 1.320921, T: 272, Avg. loss: 1.373949\n",
      "Total training time: 0.00 seconds.\n",
      "-- Epoch 69\n",
      "Norm: 9.59, NNZs: 1, Bias: 1.321966, T: 276, Avg. loss: 1.278480\n",
      "Total training time: 0.00 seconds.\n",
      "-- Epoch 70\n",
      "Norm: 9.60, NNZs: 1, Bias: 1.322962, T: 280, Avg. loss: 1.190778\n",
      "Total training time: 0.00 seconds.\n",
      "-- Epoch 71\n",
      "Norm: 9.61, NNZs: 1, Bias: 1.323896, T: 284, Avg. loss: 1.110524\n",
      "Total training time: 0.00 seconds.\n",
      "-- Epoch 72\n",
      "Norm: 9.62, NNZs: 1, Bias: 1.324787, T: 288, Avg. loss: 1.036750\n",
      "Total training time: 0.00 seconds.\n",
      "-- Epoch 73\n",
      "Norm: 9.62, NNZs: 1, Bias: 1.325621, T: 292, Avg. loss: 0.969190\n",
      "Total training time: 0.00 seconds.\n",
      "-- Epoch 74\n",
      "Norm: 9.63, NNZs: 1, Bias: 1.326416, T: 296, Avg. loss: 0.907046\n",
      "Total training time: 0.00 seconds.\n",
      "-- Epoch 75\n",
      "Norm: 9.64, NNZs: 1, Bias: 1.327159, T: 300, Avg. loss: 0.850094\n",
      "Total training time: 0.00 seconds.\n",
      "-- Epoch 76\n",
      "Norm: 9.65, NNZs: 1, Bias: 1.327867, T: 304, Avg. loss: 0.797674\n",
      "Total training time: 0.00 seconds.\n",
      "-- Epoch 77\n",
      "Norm: 9.65, NNZs: 1, Bias: 1.328528, T: 308, Avg. loss: 0.749601\n",
      "Total training time: 0.00 seconds.\n",
      "-- Epoch 78\n",
      "Norm: 9.66, NNZs: 1, Bias: 1.329158, T: 312, Avg. loss: 0.705327\n",
      "Total training time: 0.00 seconds.\n",
      "-- Epoch 79\n",
      "Norm: 9.67, NNZs: 1, Bias: 1.329744, T: 316, Avg. loss: 0.664696\n",
      "Total training time: 0.00 seconds.\n",
      "-- Epoch 80\n",
      "Norm: 9.67, NNZs: 1, Bias: 1.330302, T: 320, Avg. loss: 0.627254\n",
      "Total training time: 0.00 seconds.\n",
      "-- Epoch 81\n",
      "Norm: 9.68, NNZs: 1, Bias: 1.330820, T: 324, Avg. loss: 0.592870\n",
      "Total training time: 0.00 seconds.\n",
      "-- Epoch 82\n",
      "Norm: 9.68, NNZs: 1, Bias: 1.331313, T: 328, Avg. loss: 0.561167\n",
      "Total training time: 0.00 seconds.\n",
      "-- Epoch 83\n",
      "Norm: 9.69, NNZs: 1, Bias: 1.331769, T: 332, Avg. loss: 0.532034\n",
      "Total training time: 0.00 seconds.\n",
      "-- Epoch 84\n",
      "Norm: 9.69, NNZs: 1, Bias: 1.332203, T: 336, Avg. loss: 0.505159\n",
      "Total training time: 0.00 seconds.\n",
      "-- Epoch 85\n",
      "Norm: 9.70, NNZs: 1, Bias: 1.332604, T: 340, Avg. loss: 0.480446\n",
      "Total training time: 0.00 seconds.\n",
      "-- Epoch 86\n",
      "Norm: 9.70, NNZs: 1, Bias: 1.332984, T: 344, Avg. loss: 0.457636\n",
      "Total training time: 0.00 seconds.\n",
      "-- Epoch 87\n",
      "Norm: 9.71, NNZs: 1, Bias: 1.333333, T: 348, Avg. loss: 0.436648\n",
      "Total training time: 0.00 seconds.\n",
      "-- Epoch 88\n",
      "Norm: 9.71, NNZs: 1, Bias: 1.333665, T: 352, Avg. loss: 0.417266\n",
      "Total training time: 0.00 seconds.\n",
      "-- Epoch 89\n",
      "Norm: 9.71, NNZs: 1, Bias: 1.333968, T: 356, Avg. loss: 0.399421\n",
      "Total training time: 0.00 seconds.\n",
      "-- Epoch 90\n",
      "Norm: 9.72, NNZs: 1, Bias: 1.334254, T: 360, Avg. loss: 0.382934\n",
      "Total training time: 0.00 seconds.\n",
      "-- Epoch 91\n",
      "Norm: 9.72, NNZs: 1, Bias: 1.334515, T: 364, Avg. loss: 0.367745\n",
      "Total training time: 0.00 seconds.\n",
      "-- Epoch 92\n",
      "Norm: 9.72, NNZs: 1, Bias: 1.334761, T: 368, Avg. loss: 0.353704\n",
      "Total training time: 0.00 seconds.\n",
      "-- Epoch 93\n",
      "Norm: 9.73, NNZs: 1, Bias: 1.334983, T: 372, Avg. loss: 0.340762\n",
      "Total training time: 0.00 seconds.\n",
      "-- Epoch 94\n",
      "Norm: 9.73, NNZs: 1, Bias: 1.335192, T: 376, Avg. loss: 0.328792\n",
      "Total training time: 0.00 seconds.\n",
      "-- Epoch 95\n",
      "Norm: 9.73, NNZs: 1, Bias: 1.335378, T: 380, Avg. loss: 0.317751\n",
      "Total training time: 0.00 seconds.\n",
      "-- Epoch 96\n",
      "Norm: 9.74, NNZs: 1, Bias: 1.335553, T: 384, Avg. loss: 0.307535\n",
      "Total training time: 0.00 seconds.\n",
      "-- Epoch 97\n",
      "Norm: 9.74, NNZs: 1, Bias: 1.335708, T: 388, Avg. loss: 0.298108\n",
      "Total training time: 0.00 seconds.\n",
      "-- Epoch 98\n",
      "Norm: 9.74, NNZs: 1, Bias: 1.335852, T: 392, Avg. loss: 0.289380\n",
      "Total training time: 0.00 seconds.\n",
      "-- Epoch 99\n",
      "Norm: 9.75, NNZs: 1, Bias: 1.335977, T: 396, Avg. loss: 0.281321\n",
      "Total training time: 0.00 seconds.\n",
      "-- Epoch 100\n",
      "Norm: 9.75, NNZs: 1, Bias: 1.336093, T: 400, Avg. loss: 0.273855\n",
      "Total training time: 0.00 seconds.\n",
      "-- Epoch 101\n",
      "Norm: 9.75, NNZs: 1, Bias: 1.336191, T: 404, Avg. loss: 0.266959\n",
      "Total training time: 0.00 seconds.\n",
      "-- Epoch 102\n",
      "Norm: 9.75, NNZs: 1, Bias: 1.336281, T: 408, Avg. loss: 0.260567\n",
      "Total training time: 0.00 seconds.\n",
      "-- Epoch 103\n",
      "Norm: 9.75, NNZs: 1, Bias: 1.336355, T: 412, Avg. loss: 0.254659\n",
      "Total training time: 0.00 seconds.\n",
      "-- Epoch 104\n",
      "Norm: 9.76, NNZs: 1, Bias: 1.336421, T: 416, Avg. loss: 0.249181\n",
      "Total training time: 0.00 seconds.\n",
      "-- Epoch 105\n",
      "Norm: 9.76, NNZs: 1, Bias: 1.336472, T: 420, Avg. loss: 0.244115\n",
      "Total training time: 0.00 seconds.\n",
      "-- Epoch 106\n",
      "Norm: 9.76, NNZs: 1, Bias: 1.336517, T: 424, Avg. loss: 0.239414\n",
      "Total training time: 0.00 seconds.\n",
      "-- Epoch 107\n",
      "Norm: 9.76, NNZs: 1, Bias: 1.336548, T: 428, Avg. loss: 0.235065\n",
      "Total training time: 0.00 seconds.\n",
      "-- Epoch 108\n",
      "Norm: 9.76, NNZs: 1, Bias: 1.336573, T: 432, Avg. loss: 0.231027\n",
      "Total training time: 0.00 seconds.\n",
      "-- Epoch 109\n",
      "Norm: 9.77, NNZs: 1, Bias: 1.336584, T: 436, Avg. loss: 0.227289\n",
      "Total training time: 0.00 seconds.\n",
      "-- Epoch 110\n",
      "Norm: 9.77, NNZs: 1, Bias: 1.336591, T: 440, Avg. loss: 0.223816\n",
      "Total training time: 0.00 seconds.\n",
      "-- Epoch 111\n",
      "Norm: 9.77, NNZs: 1, Bias: 1.336586, T: 444, Avg. loss: 0.220600\n",
      "Total training time: 0.00 seconds.\n",
      "-- Epoch 112\n",
      "Norm: 9.77, NNZs: 1, Bias: 1.336576, T: 448, Avg. loss: 0.217611\n",
      "Total training time: 0.00 seconds.\n",
      "-- Epoch 113\n",
      "Norm: 9.77, NNZs: 1, Bias: 1.336555, T: 452, Avg. loss: 0.214840\n",
      "Total training time: 0.00 seconds.\n",
      "-- Epoch 114\n",
      "Norm: 9.77, NNZs: 1, Bias: 1.336530, T: 456, Avg. loss: 0.212263\n",
      "Total training time: 0.00 seconds.\n",
      "-- Epoch 115\n",
      "Norm: 9.78, NNZs: 1, Bias: 1.336494, T: 460, Avg. loss: 0.209874\n",
      "Total training time: 0.00 seconds.\n",
      "-- Epoch 116\n",
      "Norm: 9.78, NNZs: 1, Bias: 1.336455, T: 464, Avg. loss: 0.207650\n",
      "Total training time: 0.00 seconds.\n",
      "-- Epoch 117\n",
      "Norm: 9.78, NNZs: 1, Bias: 1.336406, T: 468, Avg. loss: 0.205587\n",
      "Total training time: 0.00 seconds.\n",
      "-- Epoch 118\n",
      "Norm: 9.78, NNZs: 1, Bias: 1.336355, T: 472, Avg. loss: 0.203666\n",
      "Total training time: 0.00 seconds.\n",
      "-- Epoch 119\n",
      "Norm: 9.78, NNZs: 1, Bias: 1.336294, T: 476, Avg. loss: 0.201882\n",
      "Total training time: 0.00 seconds.\n",
      "-- Epoch 120\n",
      "Norm: 9.78, NNZs: 1, Bias: 1.336231, T: 480, Avg. loss: 0.200219\n",
      "Total training time: 0.00 seconds.\n",
      "-- Epoch 121\n",
      "Norm: 9.78, NNZs: 1, Bias: 1.336158, T: 484, Avg. loss: 0.198675\n",
      "Total training time: 0.00 seconds.\n",
      "-- Epoch 122\n",
      "Norm: 9.78, NNZs: 1, Bias: 1.336085, T: 488, Avg. loss: 0.197234\n",
      "Total training time: 0.00 seconds.\n",
      "-- Epoch 123\n",
      "Norm: 9.79, NNZs: 1, Bias: 1.336002, T: 492, Avg. loss: 0.195895\n",
      "Total training time: 0.00 seconds.\n",
      "-- Epoch 124\n",
      "Norm: 9.79, NNZs: 1, Bias: 1.335918, T: 496, Avg. loss: 0.194645\n",
      "Total training time: 0.00 seconds.\n",
      "-- Epoch 125\n",
      "Norm: 9.79, NNZs: 1, Bias: 1.335827, T: 500, Avg. loss: 0.193482\n",
      "Total training time: 0.00 seconds.\n",
      "-- Epoch 126\n",
      "Norm: 9.79, NNZs: 1, Bias: 1.335734, T: 504, Avg. loss: 0.192396\n",
      "Total training time: 0.01 seconds.\n",
      "-- Epoch 127\n",
      "Norm: 9.79, NNZs: 1, Bias: 1.335634, T: 508, Avg. loss: 0.191384\n",
      "Total training time: 0.01 seconds.\n",
      "-- Epoch 128\n",
      "Norm: 9.79, NNZs: 1, Bias: 1.335533, T: 512, Avg. loss: 0.190438\n",
      "Total training time: 0.01 seconds.\n",
      "-- Epoch 129\n",
      "Norm: 9.79, NNZs: 1, Bias: 1.335424, T: 516, Avg. loss: 0.189558\n",
      "Total training time: 0.01 seconds.\n",
      "-- Epoch 130\n",
      "Norm: 9.79, NNZs: 1, Bias: 1.335316, T: 520, Avg. loss: 0.188732\n",
      "Total training time: 0.01 seconds.\n",
      "-- Epoch 131\n",
      "Norm: 9.79, NNZs: 1, Bias: 1.335201, T: 524, Avg. loss: 0.187964\n",
      "Total training time: 0.01 seconds.\n",
      "-- Epoch 132\n",
      "Norm: 9.79, NNZs: 1, Bias: 1.335085, T: 528, Avg. loss: 0.187242\n",
      "Total training time: 0.01 seconds.\n",
      "Convergence after 132 epochs took 0.01 seconds\n"
     ]
    },
    {
     "data": {
      "text/html": [
       "<style>#sk-container-id-2 {color: black;background-color: white;}#sk-container-id-2 pre{padding: 0;}#sk-container-id-2 div.sk-toggleable {background-color: white;}#sk-container-id-2 label.sk-toggleable__label {cursor: pointer;display: block;width: 100%;margin-bottom: 0;padding: 0.3em;box-sizing: border-box;text-align: center;}#sk-container-id-2 label.sk-toggleable__label-arrow:before {content: \"▸\";float: left;margin-right: 0.25em;color: #696969;}#sk-container-id-2 label.sk-toggleable__label-arrow:hover:before {color: black;}#sk-container-id-2 div.sk-estimator:hover label.sk-toggleable__label-arrow:before {color: black;}#sk-container-id-2 div.sk-toggleable__content {max-height: 0;max-width: 0;overflow: hidden;text-align: left;background-color: #f0f8ff;}#sk-container-id-2 div.sk-toggleable__content pre {margin: 0.2em;color: black;border-radius: 0.25em;background-color: #f0f8ff;}#sk-container-id-2 input.sk-toggleable__control:checked~div.sk-toggleable__content {max-height: 200px;max-width: 100%;overflow: auto;}#sk-container-id-2 input.sk-toggleable__control:checked~label.sk-toggleable__label-arrow:before {content: \"▾\";}#sk-container-id-2 div.sk-estimator input.sk-toggleable__control:checked~label.sk-toggleable__label {background-color: #d4ebff;}#sk-container-id-2 div.sk-label input.sk-toggleable__control:checked~label.sk-toggleable__label {background-color: #d4ebff;}#sk-container-id-2 input.sk-hidden--visually {border: 0;clip: rect(1px 1px 1px 1px);clip: rect(1px, 1px, 1px, 1px);height: 1px;margin: -1px;overflow: hidden;padding: 0;position: absolute;width: 1px;}#sk-container-id-2 div.sk-estimator {font-family: monospace;background-color: #f0f8ff;border: 1px dotted black;border-radius: 0.25em;box-sizing: border-box;margin-bottom: 0.5em;}#sk-container-id-2 div.sk-estimator:hover {background-color: #d4ebff;}#sk-container-id-2 div.sk-parallel-item::after {content: \"\";width: 100%;border-bottom: 1px solid gray;flex-grow: 1;}#sk-container-id-2 div.sk-label:hover label.sk-toggleable__label {background-color: #d4ebff;}#sk-container-id-2 div.sk-serial::before {content: \"\";position: absolute;border-left: 1px solid gray;box-sizing: border-box;top: 0;bottom: 0;left: 50%;z-index: 0;}#sk-container-id-2 div.sk-serial {display: flex;flex-direction: column;align-items: center;background-color: white;padding-right: 0.2em;padding-left: 0.2em;position: relative;}#sk-container-id-2 div.sk-item {position: relative;z-index: 1;}#sk-container-id-2 div.sk-parallel {display: flex;align-items: stretch;justify-content: center;background-color: white;position: relative;}#sk-container-id-2 div.sk-item::before, #sk-container-id-2 div.sk-parallel-item::before {content: \"\";position: absolute;border-left: 1px solid gray;box-sizing: border-box;top: 0;bottom: 0;left: 50%;z-index: -1;}#sk-container-id-2 div.sk-parallel-item {display: flex;flex-direction: column;z-index: 1;position: relative;background-color: white;}#sk-container-id-2 div.sk-parallel-item:first-child::after {align-self: flex-end;width: 50%;}#sk-container-id-2 div.sk-parallel-item:last-child::after {align-self: flex-start;width: 50%;}#sk-container-id-2 div.sk-parallel-item:only-child::after {width: 0;}#sk-container-id-2 div.sk-dashed-wrapped {border: 1px dashed gray;margin: 0 0.4em 0.5em 0.4em;box-sizing: border-box;padding-bottom: 0.4em;background-color: white;}#sk-container-id-2 div.sk-label label {font-family: monospace;font-weight: bold;display: inline-block;line-height: 1.2em;}#sk-container-id-2 div.sk-label-container {text-align: center;}#sk-container-id-2 div.sk-container {/* jupyter's `normalize.less` sets `[hidden] { display: none; }` but bootstrap.min.css set `[hidden] { display: none !important; }` so we also need the `!important` here to be able to override the default hidden behavior on the sphinx rendered scikit-learn.org. See: https://github.com/scikit-learn/scikit-learn/issues/21755 */display: inline-block !important;position: relative;}#sk-container-id-2 div.sk-text-repr-fallback {display: none;}</style><div id=\"sk-container-id-2\" class=\"sk-top-container\"><div class=\"sk-text-repr-fallback\"><pre>SGDRegressor(eta0=0.001, max_iter=5000, verbose=1)</pre><b>In a Jupyter environment, please rerun this cell to show the HTML representation or trust the notebook. <br />On GitHub, the HTML representation is unable to render, please try loading this page with nbviewer.org.</b></div><div class=\"sk-container\" hidden><div class=\"sk-item\"><div class=\"sk-estimator sk-toggleable\"><input class=\"sk-toggleable__control sk-hidden--visually\" id=\"sk-estimator-id-2\" type=\"checkbox\" checked><label for=\"sk-estimator-id-2\" class=\"sk-toggleable__label sk-toggleable__label-arrow\">SGDRegressor</label><div class=\"sk-toggleable__content\"><pre>SGDRegressor(eta0=0.001, max_iter=5000, verbose=1)</pre></div></div></div></div></div>"
      ],
      "text/plain": [
       "SGDRegressor(eta0=0.001, max_iter=5000, verbose=1)"
      ]
     },
     "execution_count": 29,
     "metadata": {},
     "output_type": "execute_result"
    }
   ],
   "source": [
    "# 모델 생성 및 하이퍼파라미터 설정\n",
    "sgd_model = SGDRegressor(max_iter=5000, # max_iter : 가중치 업데이트 반복 횟수\n",
    "                         eta0 = 0.001, # eta0 : 학습률(learning rate)\n",
    "                         verbose = 1)\n",
    "\n",
    "# 학습\n",
    "sgd_model.fit(data[['시간']], data['성적'])"
   ]
  },
  {
   "cell_type": "code",
   "execution_count": null,
   "id": "d8d416e8-2dc9-4831-ab08-973ed29080ca",
   "metadata": {},
   "outputs": [],
   "source": [
    "# Early stopping : 크게변화하는 값이 없을 때 학습을 임의 종료 한다."
   ]
  },
  {
   "cell_type": "code",
   "execution_count": 30,
   "id": "a0264950-1928-4929-831a-a6b604c1e48c",
   "metadata": {},
   "outputs": [
    {
     "data": {
      "text/plain": [
       "array([69.88616242])"
      ]
     },
     "execution_count": 30,
     "metadata": {},
     "output_type": "execute_result"
    }
   ],
   "source": [
    "# 예측\n",
    "sgd_model.predict([[7]])"
   ]
  },
  {
   "cell_type": "code",
   "execution_count": 31,
   "id": "2cd73db2-bb23-4c0a-b637-5dc925ed923c",
   "metadata": {},
   "outputs": [
    {
     "name": "stdout",
     "output_type": "stream",
     "text": [
      "[9.79301104]\n",
      "[1.33508517]\n"
     ]
    }
   ],
   "source": [
    "# 가중치(w), 편향(b) 확인하기\n",
    "print(sgd_model.coef_)\n",
    "print(sgd_model.intercept_)"
   ]
  },
  {
   "cell_type": "code",
   "execution_count": 32,
   "id": "015d77f4-2123-4419-b782-8a740234048c",
   "metadata": {},
   "outputs": [
    {
     "data": {
      "text/plain": [
       "0.9995459121892355"
      ]
     },
     "execution_count": 32,
     "metadata": {},
     "output_type": "execute_result"
    }
   ],
   "source": [
    "sgd_model.score(data[['시간']], data['성적'])\n",
    "\n",
    "# 1에 가까울수록 모델이 예측한 성능이 높다고 판단 한다."
   ]
  },
  {
   "cell_type": "code",
   "execution_count": null,
   "id": "1c9a3361-d57f-49a6-821a-94f0c6980619",
   "metadata": {},
   "outputs": [],
   "source": []
  },
  {
   "cell_type": "code",
   "execution_count": null,
   "id": "d380f672-0be6-4c3e-b458-d7ce1aba7083",
   "metadata": {},
   "outputs": [],
   "source": []
  },
  {
   "cell_type": "code",
   "execution_count": null,
   "id": "ad1db73f-725f-482f-b5b5-54f82ba9817f",
   "metadata": {},
   "outputs": [],
   "source": []
  },
  {
   "cell_type": "code",
   "execution_count": null,
   "id": "b5580c81-04a7-42e5-8c59-58d9ffd3254f",
   "metadata": {},
   "outputs": [],
   "source": []
  },
  {
   "cell_type": "code",
   "execution_count": null,
   "id": "5c94d474-2e56-45b9-93da-fe34a68b41cc",
   "metadata": {},
   "outputs": [],
   "source": []
  },
  {
   "cell_type": "code",
   "execution_count": null,
   "id": "ca22fe9f-e07b-4d8a-a8b7-398a772f7d41",
   "metadata": {},
   "outputs": [],
   "source": []
  },
  {
   "cell_type": "code",
   "execution_count": null,
   "id": "3bb1ebee-d855-44a2-8897-fb3b5bfb525f",
   "metadata": {},
   "outputs": [],
   "source": []
  },
  {
   "cell_type": "code",
   "execution_count": null,
   "id": "5e63b38b-3309-41a8-9ca3-1119e21e9ba7",
   "metadata": {},
   "outputs": [],
   "source": []
  },
  {
   "cell_type": "code",
   "execution_count": null,
   "id": "7bfa33b6-f3dd-4c7f-861c-840357be6f16",
   "metadata": {},
   "outputs": [],
   "source": []
  },
  {
   "cell_type": "code",
   "execution_count": null,
   "id": "6eefb918-9be4-43d1-873c-45344619dc8c",
   "metadata": {},
   "outputs": [],
   "source": []
  },
  {
   "cell_type": "code",
   "execution_count": null,
   "id": "1bb7378a-1f7e-42d0-945f-cd9515ab3796",
   "metadata": {},
   "outputs": [],
   "source": []
  }
 ],
 "metadata": {
  "kernelspec": {
   "display_name": "Python 3 (ipykernel)",
   "language": "python",
   "name": "python3"
  },
  "language_info": {
   "codemirror_mode": {
    "name": "ipython",
    "version": 3
   },
   "file_extension": ".py",
   "mimetype": "text/x-python",
   "name": "python",
   "nbconvert_exporter": "python",
   "pygments_lexer": "ipython3",
   "version": "3.10.9"
  }
 },
 "nbformat": 4,
 "nbformat_minor": 5
}
