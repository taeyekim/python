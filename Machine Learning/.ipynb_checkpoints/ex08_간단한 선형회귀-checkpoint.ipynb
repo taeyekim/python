{
 "cells": [
  {
   "cell_type": "markdown",
   "id": "2f8c9ecc-b779-4058-aea5-970949bb1cb9",
   "metadata": {},
   "source": [
    "### 선형회귀 이해하기\n",
    "- 성적데이터를 기반으로 선형회귀를 이해해보자"
   ]
  },
  {
   "cell_type": "code",
   "execution_count": 1,
   "id": "233099cb-4acb-4e01-9d54-7f0682289ab6",
   "metadata": {},
   "outputs": [],
   "source": [
    "# 성적 데이터 생성을 위한 라이브러리 꺼내오기\n",
    "import pandas as pd\n",
    "import matplotlib.pyplot as plt"
   ]
  },
  {
   "cell_type": "code",
   "execution_count": 6,
   "id": "afc6eb8c-a9ac-440c-89ab-47cce4e38cb8",
   "metadata": {},
   "outputs": [],
   "source": [
    "# 성적 데이터 생성\n",
    "data = pd.DataFrame([[2,20],[4,40],[8,80],[9,90]], index=['준영','종화','경민','승훈'], columns=['시간','성적'])"
   ]
  },
  {
   "cell_type": "markdown",
   "id": "1ece488b-8fcf-4d2e-a8cb-d002aed5b478",
   "metadata": {},
   "source": [
    "### MSE가 최소가 되는 최적의 w,b를 찾는 방법\n",
    "- MSE : 평균제곱오차(Mean Squared Error) --> 비용함수(cost)\n",
    "- 1. 수학공식을 이용한 해석적 모델\n",
    "- 2. 경사하강법(XGBoost에서 오차 계산하는 방법)"
   ]
  },
  {
   "cell_type": "markdown",
   "id": "28cc5d50-0e63-48c8-a1ce-d8f57b1903fa",
   "metadata": {},
   "source": [
    "### 수학 공식을 이용한 해석적 모델\n",
    "- LinearRegression "
   ]
  },
  {
   "cell_type": "code",
   "execution_count": 4,
   "id": "32ca6469-df9d-4a08-8723-5508dd786bc7",
   "metadata": {},
   "outputs": [],
   "source": [
    "from sklearn.linear_model import LinearRegression"
   ]
  },
  {
   "cell_type": "code",
   "execution_count": 7,
   "id": "43579b8f-ca8c-4d5b-a23a-790888cf4f46",
   "metadata": {},
   "outputs": [
    {
     "data": {
      "text/html": [
       "<style>#sk-container-id-1 {color: black;background-color: white;}#sk-container-id-1 pre{padding: 0;}#sk-container-id-1 div.sk-toggleable {background-color: white;}#sk-container-id-1 label.sk-toggleable__label {cursor: pointer;display: block;width: 100%;margin-bottom: 0;padding: 0.3em;box-sizing: border-box;text-align: center;}#sk-container-id-1 label.sk-toggleable__label-arrow:before {content: \"▸\";float: left;margin-right: 0.25em;color: #696969;}#sk-container-id-1 label.sk-toggleable__label-arrow:hover:before {color: black;}#sk-container-id-1 div.sk-estimator:hover label.sk-toggleable__label-arrow:before {color: black;}#sk-container-id-1 div.sk-toggleable__content {max-height: 0;max-width: 0;overflow: hidden;text-align: left;background-color: #f0f8ff;}#sk-container-id-1 div.sk-toggleable__content pre {margin: 0.2em;color: black;border-radius: 0.25em;background-color: #f0f8ff;}#sk-container-id-1 input.sk-toggleable__control:checked~div.sk-toggleable__content {max-height: 200px;max-width: 100%;overflow: auto;}#sk-container-id-1 input.sk-toggleable__control:checked~label.sk-toggleable__label-arrow:before {content: \"▾\";}#sk-container-id-1 div.sk-estimator input.sk-toggleable__control:checked~label.sk-toggleable__label {background-color: #d4ebff;}#sk-container-id-1 div.sk-label input.sk-toggleable__control:checked~label.sk-toggleable__label {background-color: #d4ebff;}#sk-container-id-1 input.sk-hidden--visually {border: 0;clip: rect(1px 1px 1px 1px);clip: rect(1px, 1px, 1px, 1px);height: 1px;margin: -1px;overflow: hidden;padding: 0;position: absolute;width: 1px;}#sk-container-id-1 div.sk-estimator {font-family: monospace;background-color: #f0f8ff;border: 1px dotted black;border-radius: 0.25em;box-sizing: border-box;margin-bottom: 0.5em;}#sk-container-id-1 div.sk-estimator:hover {background-color: #d4ebff;}#sk-container-id-1 div.sk-parallel-item::after {content: \"\";width: 100%;border-bottom: 1px solid gray;flex-grow: 1;}#sk-container-id-1 div.sk-label:hover label.sk-toggleable__label {background-color: #d4ebff;}#sk-container-id-1 div.sk-serial::before {content: \"\";position: absolute;border-left: 1px solid gray;box-sizing: border-box;top: 0;bottom: 0;left: 50%;z-index: 0;}#sk-container-id-1 div.sk-serial {display: flex;flex-direction: column;align-items: center;background-color: white;padding-right: 0.2em;padding-left: 0.2em;position: relative;}#sk-container-id-1 div.sk-item {position: relative;z-index: 1;}#sk-container-id-1 div.sk-parallel {display: flex;align-items: stretch;justify-content: center;background-color: white;position: relative;}#sk-container-id-1 div.sk-item::before, #sk-container-id-1 div.sk-parallel-item::before {content: \"\";position: absolute;border-left: 1px solid gray;box-sizing: border-box;top: 0;bottom: 0;left: 50%;z-index: -1;}#sk-container-id-1 div.sk-parallel-item {display: flex;flex-direction: column;z-index: 1;position: relative;background-color: white;}#sk-container-id-1 div.sk-parallel-item:first-child::after {align-self: flex-end;width: 50%;}#sk-container-id-1 div.sk-parallel-item:last-child::after {align-self: flex-start;width: 50%;}#sk-container-id-1 div.sk-parallel-item:only-child::after {width: 0;}#sk-container-id-1 div.sk-dashed-wrapped {border: 1px dashed gray;margin: 0 0.4em 0.5em 0.4em;box-sizing: border-box;padding-bottom: 0.4em;background-color: white;}#sk-container-id-1 div.sk-label label {font-family: monospace;font-weight: bold;display: inline-block;line-height: 1.2em;}#sk-container-id-1 div.sk-label-container {text-align: center;}#sk-container-id-1 div.sk-container {/* jupyter's `normalize.less` sets `[hidden] { display: none; }` but bootstrap.min.css set `[hidden] { display: none !important; }` so we also need the `!important` here to be able to override the default hidden behavior on the sphinx rendered scikit-learn.org. See: https://github.com/scikit-learn/scikit-learn/issues/21755 */display: inline-block !important;position: relative;}#sk-container-id-1 div.sk-text-repr-fallback {display: none;}</style><div id=\"sk-container-id-1\" class=\"sk-top-container\"><div class=\"sk-text-repr-fallback\"><pre>LinearRegression()</pre><b>In a Jupyter environment, please rerun this cell to show the HTML representation or trust the notebook. <br />On GitHub, the HTML representation is unable to render, please try loading this page with nbviewer.org.</b></div><div class=\"sk-container\" hidden><div class=\"sk-item\"><div class=\"sk-estimator sk-toggleable\"><input class=\"sk-toggleable__control sk-hidden--visually\" id=\"sk-estimator-id-1\" type=\"checkbox\" checked><label for=\"sk-estimator-id-1\" class=\"sk-toggleable__label sk-toggleable__label-arrow\">LinearRegression</label><div class=\"sk-toggleable__content\"><pre>LinearRegression()</pre></div></div></div></div></div>"
      ],
      "text/plain": [
       "LinearRegression()"
      ]
     },
     "execution_count": 7,
     "metadata": {},
     "output_type": "execute_result"
    }
   ],
   "source": [
    "# 모델 생성 및 하이퍼파라미터 설정\n",
    "linear_model = LinearRegression()\n",
    "\n",
    "# 학습\n",
    "linear_model.fit(data[['시간']], data['성적'])\n",
    "# data[['시간']] : 문제데이터, 2차원으로 생성\n",
    "# data['성적'] : 정답데이터, 1차원으로 생ㅇ성"
   ]
  },
  {
   "cell_type": "markdown",
   "id": "8bdb515e-6306-4cc0-83a4-4caec70287b0",
   "metadata": {},
   "source": [
    "### y=wx+b (1개의 문제)"
   ]
  },
  {
   "cell_type": "code",
   "execution_count": null,
   "id": "44ac3496-de44-4c75-a73b-416f81d17f72",
   "metadata": {},
   "outputs": [],
   "source": [
    "# 기울기, 가중치 출력 - w\n",
    "print('기울기, 가중치 : ', linear_model.coef_)\n",
    "# 절편, 편향 출력 - b\n",
    "print('절편, 편향 : ', linear_model.intercept_)\n"
   ]
  },
  {
   "cell_type": "code",
   "execution_count": null,
   "id": "3edccd2e-85ba-4e6e-abc7-c0ff0da50a11",
   "metadata": {},
   "outputs": [],
   "source": []
  },
  {
   "cell_type": "code",
   "execution_count": null,
   "id": "1cf84ac6-fd1c-4994-9896-75d9f80090ef",
   "metadata": {},
   "outputs": [],
   "source": []
  },
  {
   "cell_type": "code",
   "execution_count": null,
   "id": "99dd38bf-8826-4a06-b717-38151f345736",
   "metadata": {},
   "outputs": [],
   "source": []
  },
  {
   "cell_type": "code",
   "execution_count": null,
   "id": "ad08d81f-61d0-4277-8ca4-f5e9cbaf8e92",
   "metadata": {},
   "outputs": [],
   "source": []
  },
  {
   "cell_type": "code",
   "execution_count": null,
   "id": "de274560-af28-4c3b-b95f-5e000b9b6247",
   "metadata": {},
   "outputs": [],
   "source": []
  },
  {
   "cell_type": "code",
   "execution_count": null,
   "id": "4fcfa165-ee5c-4394-9064-a1d3f6e2c1f1",
   "metadata": {},
   "outputs": [],
   "source": []
  },
  {
   "cell_type": "code",
   "execution_count": null,
   "id": "8178c0dc-5d61-44df-b08e-9d6639a3d93d",
   "metadata": {},
   "outputs": [],
   "source": []
  },
  {
   "cell_type": "code",
   "execution_count": null,
   "id": "f81c1647-9fd1-4cb0-b605-3977e59793ba",
   "metadata": {},
   "outputs": [],
   "source": []
  },
  {
   "cell_type": "code",
   "execution_count": null,
   "id": "14cdd6c1-b184-45f7-9d38-9901f76acca5",
   "metadata": {},
   "outputs": [],
   "source": []
  },
  {
   "cell_type": "code",
   "execution_count": null,
   "id": "08a0ce54-b20e-4e2d-9167-96550aeea9db",
   "metadata": {},
   "outputs": [],
   "source": []
  },
  {
   "cell_type": "code",
   "execution_count": null,
   "id": "059b2241-0d7f-49f5-bb82-1c4358f6a23a",
   "metadata": {},
   "outputs": [],
   "source": []
  },
  {
   "cell_type": "code",
   "execution_count": null,
   "id": "f95aba3d-a369-4bcf-a3f9-932aa46ea649",
   "metadata": {},
   "outputs": [],
   "source": []
  },
  {
   "cell_type": "code",
   "execution_count": null,
   "id": "3bb1ebee-d855-44a2-8897-fb3b5bfb525f",
   "metadata": {},
   "outputs": [],
   "source": []
  },
  {
   "cell_type": "code",
   "execution_count": null,
   "id": "5e63b38b-3309-41a8-9ca3-1119e21e9ba7",
   "metadata": {},
   "outputs": [],
   "source": []
  },
  {
   "cell_type": "code",
   "execution_count": null,
   "id": "7bfa33b6-f3dd-4c7f-861c-840357be6f16",
   "metadata": {},
   "outputs": [],
   "source": []
  },
  {
   "cell_type": "code",
   "execution_count": null,
   "id": "6eefb918-9be4-43d1-873c-45344619dc8c",
   "metadata": {},
   "outputs": [],
   "source": []
  },
  {
   "cell_type": "code",
   "execution_count": null,
   "id": "1bb7378a-1f7e-42d0-945f-cd9515ab3796",
   "metadata": {},
   "outputs": [],
   "source": []
  }
 ],
 "metadata": {
  "kernelspec": {
   "display_name": "Python 3 (ipykernel)",
   "language": "python",
   "name": "python3"
  },
  "language_info": {
   "codemirror_mode": {
    "name": "ipython",
    "version": 3
   },
   "file_extension": ".py",
   "mimetype": "text/x-python",
   "name": "python",
   "nbconvert_exporter": "python",
   "pygments_lexer": "ipython3",
   "version": "3.10.9"
  }
 },
 "nbformat": 4,
 "nbformat_minor": 5
}
