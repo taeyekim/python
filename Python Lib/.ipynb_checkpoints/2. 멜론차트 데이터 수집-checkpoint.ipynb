{
 "cells": [
  {
   "cell_type": "code",
   "execution_count": 1,
   "id": "089dd3ab",
   "metadata": {},
   "outputs": [],
   "source": [
    "import requests as req\n",
    "from bs4 import BeautifulSoup as bs"
   ]
  },
  {
   "cell_type": "code",
   "execution_count": 33,
   "id": "9de31401",
   "metadata": {},
   "outputs": [],
   "source": [
    "# 1. req를 통해서 멜론차트 정보를 요청\n",
    "head = {'User-Agent':'Mozilla/5.0 (Windows NT 10.0; Win64; x64) AppleWebKit/537.36 (KHTML, like Gecko) Chrome/116.0.0.0 Safari/537.36'}\n",
    "res = req.get('https://www.melon.com/chart/index.htm',headers = head)"
   ]
  },
  {
   "cell_type": "code",
   "execution_count": 34,
   "id": "0e4ba53c",
   "metadata": {},
   "outputs": [],
   "source": [
    "# 2. bs을 통해서 html데이터로 변형\n",
    "soup = bs(res.text,'lxml')"
   ]
  },
  {
   "cell_type": "code",
   "execution_count": 39,
   "id": "cddae12c",
   "metadata": {},
   "outputs": [],
   "source": [
    "# 3. 노래제목 수집\n",
    "# 클래스값 중간에 공백이 있다는건 -> 클래스가 복수개다\n",
    "# 공백을 지우고 반드시 . 으로 이어준다!\n",
    "song = soup.select('div.ellipsis.rank01 > span > a')"
   ]
  },
  {
   "cell_type": "code",
   "execution_count": 59,
   "id": "c7be8642",
   "metadata": {},
   "outputs": [],
   "source": [
    "# 4. 가수이름 수집\n",
    "singer = soup.select('div.ellipsis.rank02 > span.checkEllipsis')"
   ]
  },
  {
   "cell_type": "code",
   "execution_count": 64,
   "id": "722697b8",
   "metadata": {
    "scrolled": true
   },
   "outputs": [
    {
     "name": "stdout",
     "output_type": "stream",
     "text": [
      "100\n",
      "100\n"
     ]
    }
   ],
   "source": [
    "# 데이터의 개수가 정해진 경우에는 \n",
    "# 반드시 데이터 검증이 필요하다. (데이터의 길이, 데이터의 중복여부)\n",
    "print(len(song))\n",
    "print(len(singer))"
   ]
  },
  {
   "cell_type": "code",
   "execution_count": 65,
   "id": "af2129ed",
   "metadata": {
    "scrolled": true
   },
   "outputs": [
    {
     "name": "stdout",
     "output_type": "stream",
     "text": [
      "정국\n",
      "NewJeans\n",
      "NewJeans\n",
      "박재정\n",
      "(여자)아이들\n",
      "IVE (아이브)\n",
      "임영웅\n",
      "우디 (Woody)\n",
      "Lauv\n",
      "임영웅\n",
      "전소미\n",
      "aespa\n",
      "임영웅\n",
      "LE SSERAFIM (르세라핌)\n",
      "NewJeans\n",
      "임영웅\n",
      "정국\n",
      "NewJeans\n",
      "임영웅\n",
      "임영웅\n",
      "IVE (아이브)\n",
      "임영웅\n",
      "임영웅\n",
      "임영웅\n",
      "LE SSERAFIM (르세라핌)\n",
      "NewJeans\n",
      "임영웅\n",
      "임영웅\n",
      "임영웅\n",
      "AKMU (악뮤)\n",
      "Paul Blanco\n",
      "임영웅\n",
      "임영웅\n",
      "NewJeans\n",
      "방탄소년단\n",
      "NewJeans\n",
      "세븐틴 (SEVENTEEN)\n",
      "임영웅\n",
      "NewJeans\n",
      "V\n",
      "방탄소년단\n",
      "윤하 (YOUNHA)\n",
      "IVE (아이브)\n",
      "ITZY (있지)\n",
      "Charlie Puth\n",
      "지수 (JISOO)\n",
      "IVE (아이브)\n",
      "STAYC(스테이씨)\n",
      "방탄소년단\n",
      "이세계아이돌\n",
      "부석순 (SEVENTEEN)\n",
      "AKMU (악뮤)\n",
      "지민\n",
      "Charlie Puth\n",
      "방탄소년단\n",
      "정국, 방탄소년단\n",
      "NCT DREAM\n",
      "STAYC(스테이씨)\n",
      "Agust D\n",
      "DK(디셈버)\n",
      "임한별\n",
      "성시경\n",
      "탑현\n",
      "NCT DREAM\n",
      "멜로망스\n",
      "오마이걸 (OH MY GIRL)\n",
      "V\n",
      "허각\n",
      "이무진\n",
      "케이시 (Kassy)\n",
      "FIFTY FIFTY\n",
      "방탄소년단\n",
      "LE SSERAFIM (르세라핌)\n",
      "H1-KEY (하이키)\n",
      "김호중\n",
      "NewJeans\n",
      "j-hope, J. Cole\n",
      "(여자)아이들\n",
      "우효\n",
      "경서\n",
      "지아\n",
      "제이세라\n",
      "The Kid LAROI, Justin Bieber\n",
      "김민석 (멜로망스)\n",
      "NCT DREAM\n",
      "로이킴\n",
      "IVE (아이브)\n",
      "김연지, DK(디셈버)\n",
      "#안녕\n",
      "이세계아이돌\n",
      "경서예지, 전건호\n",
      "ZEROBASEONE (제로베이스원)\n",
      "Charlie Puth\n",
      "(여자)아이들\n",
      "NCT DREAM\n",
      "임재현\n",
      "김호중, 송가인\n",
      "Charlie Puth\n",
      "던 (DAWN)\n",
      "이세계아이돌\n"
     ]
    }
   ],
   "source": [
    "for i in singer:\n",
    "    print(i.text)"
   ]
  },
  {
   "cell_type": "code",
   "execution_count": 67,
   "id": "da996a98",
   "metadata": {
    "scrolled": true
   },
   "outputs": [],
   "source": [
    "# 5. 수집된 데이터를 텍스트 정보만 추출해서 저장\n",
    "song_list = []\n",
    "singer_list = []\n",
    "for i in range(len(song)):\n",
    "    song_list.append(song[i].text)\n",
    "    singer_list.append(singer[i].text)"
   ]
  },
  {
   "cell_type": "code",
   "execution_count": 68,
   "id": "e12307ed",
   "metadata": {
    "scrolled": true
   },
   "outputs": [
    {
     "data": {
      "text/plain": [
       "['정국',\n",
       " 'NewJeans',\n",
       " 'NewJeans',\n",
       " '박재정',\n",
       " '(여자)아이들',\n",
       " 'IVE (아이브)',\n",
       " '임영웅',\n",
       " '우디 (Woody)',\n",
       " 'Lauv',\n",
       " '임영웅',\n",
       " '전소미',\n",
       " 'aespa',\n",
       " '임영웅',\n",
       " 'LE SSERAFIM (르세라핌)',\n",
       " 'NewJeans',\n",
       " '임영웅',\n",
       " '정국',\n",
       " 'NewJeans',\n",
       " '임영웅',\n",
       " '임영웅',\n",
       " 'IVE (아이브)',\n",
       " '임영웅',\n",
       " '임영웅',\n",
       " '임영웅',\n",
       " 'LE SSERAFIM (르세라핌)',\n",
       " 'NewJeans',\n",
       " '임영웅',\n",
       " '임영웅',\n",
       " '임영웅',\n",
       " 'AKMU (악뮤)',\n",
       " 'Paul Blanco',\n",
       " '임영웅',\n",
       " '임영웅',\n",
       " 'NewJeans',\n",
       " '방탄소년단',\n",
       " 'NewJeans',\n",
       " '세븐틴 (SEVENTEEN)',\n",
       " '임영웅',\n",
       " 'NewJeans',\n",
       " 'V',\n",
       " '방탄소년단',\n",
       " '윤하 (YOUNHA)',\n",
       " 'IVE (아이브)',\n",
       " 'ITZY (있지)',\n",
       " 'Charlie Puth',\n",
       " '지수 (JISOO)',\n",
       " 'IVE (아이브)',\n",
       " 'STAYC(스테이씨)',\n",
       " '방탄소년단',\n",
       " '이세계아이돌',\n",
       " '부석순 (SEVENTEEN)',\n",
       " 'AKMU (악뮤)',\n",
       " '지민',\n",
       " 'Charlie Puth',\n",
       " '방탄소년단',\n",
       " '정국, 방탄소년단',\n",
       " 'NCT DREAM',\n",
       " 'STAYC(스테이씨)',\n",
       " 'Agust D',\n",
       " 'DK(디셈버)',\n",
       " '임한별',\n",
       " '성시경',\n",
       " '탑현',\n",
       " 'NCT DREAM',\n",
       " '멜로망스',\n",
       " '오마이걸 (OH MY GIRL)',\n",
       " 'V',\n",
       " '허각',\n",
       " '이무진',\n",
       " '케이시 (Kassy)',\n",
       " 'FIFTY FIFTY',\n",
       " '방탄소년단',\n",
       " 'LE SSERAFIM (르세라핌)',\n",
       " 'H1-KEY (하이키)',\n",
       " '김호중',\n",
       " 'NewJeans',\n",
       " 'j-hope, J. Cole',\n",
       " '(여자)아이들',\n",
       " '우효',\n",
       " '경서',\n",
       " '지아',\n",
       " '제이세라',\n",
       " 'The Kid LAROI, Justin Bieber',\n",
       " '김민석 (멜로망스)',\n",
       " 'NCT DREAM',\n",
       " '로이킴',\n",
       " 'IVE (아이브)',\n",
       " '김연지, DK(디셈버)',\n",
       " '#안녕',\n",
       " '이세계아이돌',\n",
       " '경서예지, 전건호',\n",
       " 'ZEROBASEONE (제로베이스원)',\n",
       " 'Charlie Puth',\n",
       " '(여자)아이들',\n",
       " 'NCT DREAM',\n",
       " '임재현',\n",
       " '김호중, 송가인',\n",
       " 'Charlie Puth',\n",
       " '던 (DAWN)',\n",
       " '이세계아이돌']"
      ]
     },
     "execution_count": 68,
     "metadata": {},
     "output_type": "execute_result"
    }
   ],
   "source": [
    "singer_list"
   ]
  },
  {
   "cell_type": "code",
   "execution_count": 69,
   "id": "ec0342fa",
   "metadata": {},
   "outputs": [],
   "source": [
    "# 6. 표를 제작\n",
    "import pandas as pd"
   ]
  },
  {
   "cell_type": "code",
   "execution_count": 72,
   "id": "0e10c55c",
   "metadata": {},
   "outputs": [],
   "source": [
    "dic = {'가수이름':singer_list,'노래제목':song_list}\n",
    "melon = pd.DataFrame(dic)"
   ]
  },
  {
   "cell_type": "code",
   "execution_count": 74,
   "id": "0c73f354",
   "metadata": {},
   "outputs": [],
   "source": [
    "# 7. 파일로 제작\n",
    "melon.to_csv('멜론차트.csv',encoding='euc-kr')"
   ]
  }
 ],
 "metadata": {
  "kernelspec": {
   "display_name": "Python 3 (ipykernel)",
   "language": "python",
   "name": "python3"
  },
  "language_info": {
   "codemirror_mode": {
    "name": "ipython",
    "version": 3
   },
   "file_extension": ".py",
   "mimetype": "text/x-python",
   "name": "python",
   "nbconvert_exporter": "python",
   "pygments_lexer": "ipython3",
   "version": "3.10.9"
  }
 },
 "nbformat": 4,
 "nbformat_minor": 5
}
