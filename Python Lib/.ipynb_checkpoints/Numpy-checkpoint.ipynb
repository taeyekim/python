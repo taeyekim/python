{
 "cells": [
  {
   "cell_type": "code",
   "execution_count": 2,
   "id": "8ca8f229",
   "metadata": {},
   "outputs": [],
   "source": [
    "import numpy as np"
   ]
  },
  {
   "cell_type": "markdown",
   "id": "56e05aa0",
   "metadata": {},
   "source": [
    "# 1차원 배열(ndarray) 만들기"
   ]
  },
  {
   "cell_type": "code",
   "execution_count": 10,
   "id": "86ad1cdb",
   "metadata": {},
   "outputs": [
    {
     "data": {
      "text/plain": [
       "array([1, 2, 3, 4, 5])"
      ]
     },
     "execution_count": 10,
     "metadata": {},
     "output_type": "execute_result"
    }
   ],
   "source": [
    "list1 = [1, 2, 3, 4, 5]\n",
    "# np의 배열 생성 함수\n",
    "arr = np.array(list1)\n",
    "arr"
   ]
  },
  {
   "cell_type": "markdown",
   "id": "767aa95e",
   "metadata": {},
   "source": [
    "# 2차원 배열(array) 만들기"
   ]
  },
  {
   "cell_type": "code",
   "execution_count": 11,
   "id": "e6f5c092",
   "metadata": {},
   "outputs": [
    {
     "data": {
      "text/plain": [
       "array([[1, 2, 3],\n",
       "       [4, 5, 6]])"
      ]
     },
     "execution_count": 11,
     "metadata": {},
     "output_type": "execute_result"
    }
   ],
   "source": [
    "list2 = [[1, 2, 3], [4, 5, 6]] #2차원 리스트 생성\n",
    "arr2 = np.array(list2)\n",
    "arr2\n",
    "\n"
   ]
  },
  {
   "cell_type": "code",
   "execution_count": 12,
   "id": "568316de",
   "metadata": {},
   "outputs": [
    {
     "name": "stdout",
     "output_type": "stream",
     "text": [
      "(5,)\n",
      "(2, 3)\n"
     ]
    }
   ],
   "source": [
    "# shape : 배열의 크기\n",
    "print(arr.shape)\n",
    "print(arr2.shape)"
   ]
  },
  {
   "cell_type": "code",
   "execution_count": 13,
   "id": "76a704b3",
   "metadata": {},
   "outputs": [
    {
     "data": {
      "text/plain": [
       "6"
      ]
     },
     "execution_count": 13,
     "metadata": {},
     "output_type": "execute_result"
    }
   ],
   "source": [
    "# size : 배열의 총 요소 개수\n",
    "arr2.size"
   ]
  },
  {
   "cell_type": "code",
   "execution_count": 14,
   "id": "e0266400",
   "metadata": {},
   "outputs": [
    {
     "data": {
      "text/plain": [
       "2"
      ]
     },
     "execution_count": 14,
     "metadata": {},
     "output_type": "execute_result"
    }
   ],
   "source": [
    "# ndim : 배열의 차원\n",
    "arr2.ndim"
   ]
  },
  {
   "cell_type": "code",
   "execution_count": 15,
   "id": "e8b6a649",
   "metadata": {},
   "outputs": [
    {
     "data": {
      "text/plain": [
       "dtype('int32')"
      ]
     },
     "execution_count": 15,
     "metadata": {},
     "output_type": "execute_result"
    }
   ],
   "source": [
    "# dtype : 배열의 타입 확인\n",
    "arr.dtype"
   ]
  },
  {
   "cell_type": "code",
   "execution_count": 16,
   "id": "fdb9e2f6",
   "metadata": {},
   "outputs": [
    {
     "data": {
      "text/plain": [
       "array([1, 2, 3, 4, 5])"
      ]
     },
     "execution_count": 16,
     "metadata": {},
     "output_type": "execute_result"
    }
   ],
   "source": [
    "arr"
   ]
  },
  {
   "cell_type": "code",
   "execution_count": 24,
   "id": "f548a422",
   "metadata": {},
   "outputs": [],
   "source": [
    "# 3차원 배열 만들기\n",
    "list3 = [ [ [1, 2], [3, 4] ],\n",
    "        [[5, 6], [7, 8] ] ]"
   ]
  },
  {
   "cell_type": "code",
   "execution_count": 25,
   "id": "a699a85a",
   "metadata": {},
   "outputs": [],
   "source": [
    "arr3 = np.array(list3)"
   ]
  },
  {
   "cell_type": "code",
   "execution_count": 29,
   "id": "983dd557",
   "metadata": {},
   "outputs": [
    {
     "name": "stdout",
     "output_type": "stream",
     "text": [
      "배열의 크기 : (2, 2, 2)\n",
      "배열의 차원 : 3\n",
      "배열의 개수 : 8\n"
     ]
    }
   ],
   "source": [
    "print(\"배열의 크기 : {}\".format(arr3.shape)) # print(\"배열의 크기 : \", arr3.shape)\n",
    "print(\"배열의 차원 : {}\".format(arr3.ndim))\n",
    "print(\"배열의 개수 : {}\".format(arr3.size))"
   ]
  },
  {
   "cell_type": "markdown",
   "id": "d9104bec",
   "metadata": {},
   "source": [
    "# array 생성\n",
    "### 특정 값으로 배열 생성"
   ]
  },
  {
   "cell_type": "code",
   "execution_count": 30,
   "id": "c97ef702",
   "metadata": {},
   "outputs": [
    {
     "data": {
      "text/plain": [
       "array([[0., 0., 0., 0.],\n",
       "       [0., 0., 0., 0.]])"
      ]
     },
     "execution_count": 30,
     "metadata": {},
     "output_type": "execute_result"
    }
   ],
   "source": [
    "# 0값으로 채워진 배열 생성 #float형 0.\n",
    "# np.zeros( (행, 열) )\n",
    "np.zeros( (2,4) )"
   ]
  },
  {
   "cell_type": "code",
   "execution_count": 32,
   "id": "f28448fc",
   "metadata": {},
   "outputs": [
    {
     "data": {
      "text/plain": [
       "array([[1., 1., 1.],\n",
       "       [1., 1., 1.],\n",
       "       [1., 1., 1.],\n",
       "       [1., 1., 1.]])"
      ]
     },
     "execution_count": 32,
     "metadata": {},
     "output_type": "execute_result"
    }
   ],
   "source": [
    "# 1값으로 채워진 배열 생성 # float 1.\n",
    "# np.ones( (행, 열) )\n",
    "np.ones( (4, 3) )"
   ]
  },
  {
   "cell_type": "code",
   "execution_count": 36,
   "id": "20d2d133",
   "metadata": {},
   "outputs": [
    {
     "data": {
      "text/plain": [
       "array([[7, 7, 7],\n",
       "       [7, 7, 7],\n",
       "       [7, 7, 7]])"
      ]
     },
     "execution_count": 36,
     "metadata": {},
     "output_type": "execute_result"
    }
   ],
   "source": [
    "# 내가 원하는 값으로 채워진 배열 생성\n",
    "# np.full( (행, 열), 원하는 값 )\n",
    "np.full( (3, 3), 7 )"
   ]
  },
  {
   "cell_type": "markdown",
   "id": "5591af0b",
   "metadata": {},
   "source": [
    "##### 범위 배열 생성"
   ]
  },
  {
   "cell_type": "code",
   "execution_count": 39,
   "id": "ca2f9190",
   "metadata": {},
   "outputs": [
    {
     "data": {
      "text/plain": [
       "array([ 1,  2,  3,  4,  5,  6,  7,  8,  9, 10, 11, 12, 13, 14, 15, 16, 17,\n",
       "       18, 19, 20, 21, 22, 23, 24, 25, 26, 27, 28, 29, 30, 31, 32, 33, 34,\n",
       "       35, 36, 37, 38, 39, 40, 41, 42, 43, 44, 45, 46, 47, 48, 49, 50])"
      ]
     },
     "execution_count": 39,
     "metadata": {},
     "output_type": "execute_result"
    }
   ],
   "source": [
    "# 특정 범위(range)의 값으로 배열 생성\n",
    "list1 = []\n",
    "for i in range(1, 51):\n",
    "    list1.append(i)\n",
    "list1\n",
    "np.array(list1)"
   ]
  },
  {
   "cell_type": "code",
   "execution_count": 40,
   "id": "5a1ce6eb",
   "metadata": {},
   "outputs": [
    {
     "data": {
      "text/plain": [
       "array([ 1,  2,  3,  4,  5,  6,  7,  8,  9, 10, 11, 12, 13, 14, 15, 16, 17,\n",
       "       18, 19, 20, 21, 22, 23, 24, 25, 26, 27, 28, 29, 30, 31, 32, 33, 34,\n",
       "       35, 36, 37, 38, 39, 40, 41, 42, 43, 44, 45, 46, 47, 48, 49, 50])"
      ]
     },
     "execution_count": 40,
     "metadata": {},
     "output_type": "execute_result"
    }
   ],
   "source": [
    "arange_arr = np.arange(1, 51)\n",
    "arange_arr"
   ]
  },
  {
   "cell_type": "markdown",
   "id": "6c02c538",
   "metadata": {},
   "source": [
    "##### 난수 배열 생성하기"
   ]
  },
  {
   "cell_type": "code",
   "execution_count": 41,
   "id": "c4bb7662",
   "metadata": {},
   "outputs": [
    {
     "data": {
      "text/plain": [
       "array([[0.92782753, 0.90340157, 0.16135939],\n",
       "       [0.14278022, 0.7347781 , 0.73888386]])"
      ]
     },
     "execution_count": 41,
     "metadata": {},
     "output_type": "execute_result"
    }
   ],
   "source": [
    "# 랜덤 값 생성하기 - 0~1 사이 실수 값으로 구성\n",
    "np.random.rand(2, 3)"
   ]
  },
  {
   "cell_type": "code",
   "execution_count": 70,
   "id": "7be587ec",
   "metadata": {},
   "outputs": [
    {
     "data": {
      "text/plain": [
       "3"
      ]
     },
     "execution_count": 70,
     "metadata": {},
     "output_type": "execute_result"
    }
   ],
   "source": [
    "# 랜덤 값 생성하기 2\n",
    "# (시작, n-1) 사이의 랜덤한 정수 1개 생성\n",
    "np.random.randint(3, 10)"
   ]
  },
  {
   "cell_type": "code",
   "execution_count": 71,
   "id": "f045cbf0",
   "metadata": {},
   "outputs": [
    {
     "data": {
      "text/plain": [
       "array([[7, 6, 6],\n",
       "       [7, 5, 6]])"
      ]
     },
     "execution_count": 71,
     "metadata": {},
     "output_type": "execute_result"
    }
   ],
   "source": [
    "# size= 을 통해 배열 크기 지정\n",
    "np.random.randint(3, 10, size=(2,3) )"
   ]
  },
  {
   "cell_type": "code",
   "execution_count": 74,
   "id": "47873813",
   "metadata": {},
   "outputs": [
    {
     "data": {
      "text/plain": [
       "array([1, 3, 5, 7])"
      ]
     },
     "execution_count": 74,
     "metadata": {},
     "output_type": "execute_result"
    }
   ],
   "source": [
    "# 타입 지정하여 배열 생성\n",
    "arr_type = np.array([1.2, 3.4, 5.6, 7.2] , dtype='int')\n",
    "arr_type"
   ]
  },
  {
   "cell_type": "code",
   "execution_count": 76,
   "id": "d5457507",
   "metadata": {},
   "outputs": [
    {
     "data": {
      "text/plain": [
       "array([1., 3., 5., 7.])"
      ]
     },
     "execution_count": 76,
     "metadata": {},
     "output_type": "execute_result"
    }
   ],
   "source": [
    "# 배열의 타입 변경 - astype()\n",
    "arr_type.astype('float')"
   ]
  },
  {
   "cell_type": "markdown",
   "id": "6f44764d",
   "metadata": {},
   "source": [
    "### array 연산"
   ]
  },
  {
   "cell_type": "code",
   "execution_count": 77,
   "id": "c1071e59",
   "metadata": {},
   "outputs": [
    {
     "data": {
      "text/plain": [
       "[1, 2, 3, 4, 5, 6]"
      ]
     },
     "execution_count": 77,
     "metadata": {},
     "output_type": "execute_result"
    }
   ],
   "source": [
    "list1 = [1, 2, 3]\n",
    "list2 = [4, 5, 6]\n",
    "\n",
    "list1 + list2"
   ]
  },
  {
   "cell_type": "code",
   "execution_count": 78,
   "id": "a05dfee4",
   "metadata": {},
   "outputs": [
    {
     "data": {
      "text/plain": [
       "[5, 7, 9]"
      ]
     },
     "execution_count": 78,
     "metadata": {},
     "output_type": "execute_result"
    }
   ],
   "source": [
    "list3 = []\n",
    "for i in range(len(list1)):\n",
    "    list3.append(list1[i] + list2[i])\n",
    "list3"
   ]
  },
  {
   "cell_type": "code",
   "execution_count": 80,
   "id": "34ac2b90",
   "metadata": {},
   "outputs": [
    {
     "name": "stdout",
     "output_type": "stream",
     "text": [
      "[5 7 9]\n",
      "[ 4 10 18]\n"
     ]
    }
   ],
   "source": [
    "# array는 기본적으로 요소별 연산을 진행한다.\n",
    "arr1 = np.array(list1)\n",
    "arr2 = np.array(list2)\n",
    "\n",
    "print(arr1 + arr2)\n",
    "print(arr1 * arr2)"
   ]
  },
  {
   "cell_type": "markdown",
   "id": "08226e89",
   "metadata": {},
   "source": [
    "### 인덱싱, 슬라이싱\n",
    "##### 인덱싱"
   ]
  },
  {
   "cell_type": "code",
   "execution_count": 82,
   "id": "e15fab6b",
   "metadata": {},
   "outputs": [
    {
     "data": {
      "text/plain": [
       "array([[1, 2, 3],\n",
       "       [4, 5, 6]])"
      ]
     },
     "execution_count": 82,
     "metadata": {},
     "output_type": "execute_result"
    }
   ],
   "source": [
    "arr = np.array([[1, 2, 3], [4, 5, 6]])\n",
    "arr"
   ]
  },
  {
   "cell_type": "code",
   "execution_count": 83,
   "id": "5debf038",
   "metadata": {},
   "outputs": [
    {
     "data": {
      "text/plain": [
       "array([1, 2, 3])"
      ]
     },
     "execution_count": 83,
     "metadata": {},
     "output_type": "execute_result"
    }
   ],
   "source": [
    "# 행 인덱싱\n",
    "arr[0]"
   ]
  },
  {
   "cell_type": "code",
   "execution_count": 84,
   "id": "ca0d64b8",
   "metadata": {},
   "outputs": [
    {
     "data": {
      "text/plain": [
       "3"
      ]
     },
     "execution_count": 84,
     "metadata": {},
     "output_type": "execute_result"
    }
   ],
   "source": [
    "# arr에서 3 인덱싱\n",
    "arr[0][2]"
   ]
  },
  {
   "cell_type": "markdown",
   "id": "c346af10",
   "metadata": {},
   "source": [
    "##### 슬라이싱"
   ]
  },
  {
   "cell_type": "code",
   "execution_count": 85,
   "id": "d9b17e90",
   "metadata": {},
   "outputs": [
    {
     "data": {
      "text/plain": [
       "array([0, 1, 2, 3, 4, 5, 6, 7, 8, 9])"
      ]
     },
     "execution_count": 85,
     "metadata": {},
     "output_type": "execute_result"
    }
   ],
   "source": [
    "# np.arange(시작, 끝, 증가량)\n",
    "# 디폴트 - (0, 지정, 1)\n",
    "arr1 = np.arange(10)\n",
    "arr1"
   ]
  },
  {
   "cell_type": "code",
   "execution_count": 86,
   "id": "0faeaa73",
   "metadata": {},
   "outputs": [
    {
     "data": {
      "text/plain": [
       "array([2, 4, 6, 8])"
      ]
     },
     "execution_count": 86,
     "metadata": {},
     "output_type": "execute_result"
    }
   ],
   "source": [
    "np.arange(2, 10, 2)"
   ]
  },
  {
   "cell_type": "code",
   "execution_count": 88,
   "id": "9ab56e16",
   "metadata": {},
   "outputs": [
    {
     "data": {
      "text/plain": [
       "array([2, 3, 4, 5])"
      ]
     },
     "execution_count": 88,
     "metadata": {},
     "output_type": "execute_result"
    }
   ],
   "source": [
    "# 슬라이싱\n",
    "arr1[2:6]"
   ]
  },
  {
   "cell_type": "code",
   "execution_count": 91,
   "id": "78128406",
   "metadata": {},
   "outputs": [
    {
     "data": {
      "text/plain": [
       "array([[ 0,  1,  2,  3,  4,  5,  6,  7,  8,  9],\n",
       "       [10, 11, 12, 13, 14, 15, 16, 17, 18, 19],\n",
       "       [20, 21, 22, 23, 24, 25, 26, 27, 28, 29],\n",
       "       [30, 31, 32, 33, 34, 35, 36, 37, 38, 39],\n",
       "       [40, 41, 42, 43, 44, 45, 46, 47, 48, 49]])"
      ]
     },
     "execution_count": 91,
     "metadata": {},
     "output_type": "execute_result"
    }
   ],
   "source": [
    "# 2차원 범위 배열 생성\n",
    "#reshape : 배열의 크기를 다시 지정\n",
    "\n",
    "arr2 = np.arange(50).reshape(5, 10)\n",
    "arr2"
   ]
  },
  {
   "cell_type": "code",
   "execution_count": 97,
   "id": "71f7d614",
   "metadata": {},
   "outputs": [
    {
     "data": {
      "text/plain": [
       "array([[ 0,  1,  2,  3,  4,  5,  6,  7,  8,  9],\n",
       "       [10, 11, 12, 13, 14, 15, 16, 17, 18, 19]])"
      ]
     },
     "execution_count": 97,
     "metadata": {},
     "output_type": "execute_result"
    }
   ],
   "source": [
    "# 2차원 배열 슬라이싱\n",
    "# [ 행의 범위, 열의 범위]\n",
    "arr2[:2, :]"
   ]
  },
  {
   "cell_type": "code",
   "execution_count": 99,
   "id": "ca52d8bc",
   "metadata": {},
   "outputs": [
    {
     "data": {
      "text/plain": [
       "array([ 0, 10, 20, 30, 40])"
      ]
     },
     "execution_count": 99,
     "metadata": {},
     "output_type": "execute_result"
    }
   ],
   "source": [
    "arr2[:, 0]"
   ]
  },
  {
   "cell_type": "code",
   "execution_count": 101,
   "id": "fd97d79d",
   "metadata": {},
   "outputs": [
    {
     "data": {
      "text/plain": [
       "array([[ 4,  5,  6,  7],\n",
       "       [14, 15, 16, 17],\n",
       "       [24, 25, 26, 27],\n",
       "       [34, 35, 36, 37],\n",
       "       [44, 45, 46, 47]])"
      ]
     },
     "execution_count": 101,
     "metadata": {},
     "output_type": "execute_result"
    }
   ],
   "source": [
    "arr2[:, 4:8]"
   ]
  },
  {
   "cell_type": "code",
   "execution_count": 103,
   "id": "2a762549",
   "metadata": {},
   "outputs": [
    {
     "data": {
      "text/plain": [
       "array([[ 0,  1,  2],\n",
       "       [10, 11, 12],\n",
       "       [20, 21, 22],\n",
       "       [30, 31, 32]])"
      ]
     },
     "execution_count": 103,
     "metadata": {},
     "output_type": "execute_result"
    }
   ],
   "source": [
    "arr2[:4, :3]"
   ]
  },
  {
   "cell_type": "code",
   "execution_count": 104,
   "id": "155971f6",
   "metadata": {},
   "outputs": [
    {
     "data": {
      "text/plain": [
       "21"
      ]
     },
     "execution_count": 104,
     "metadata": {},
     "output_type": "execute_result"
    }
   ],
   "source": [
    "arr2[2, 1]"
   ]
  },
  {
   "cell_type": "code",
   "execution_count": 105,
   "id": "72a9760a",
   "metadata": {},
   "outputs": [
    {
     "data": {
      "text/plain": [
       "32"
      ]
     },
     "execution_count": 105,
     "metadata": {},
     "output_type": "execute_result"
    }
   ],
   "source": [
    "arr2[3, 2]"
   ]
  },
  {
   "cell_type": "code",
   "execution_count": 107,
   "id": "7ad53a34",
   "metadata": {},
   "outputs": [
    {
     "data": {
      "text/plain": [
       "array([23, 32])"
      ]
     },
     "execution_count": 107,
     "metadata": {},
     "output_type": "execute_result"
    }
   ],
   "source": [
    "# 21, 32 한 번에 가져오기\n",
    "arr2[[2,3], [3,2]]"
   ]
  },
  {
   "cell_type": "markdown",
   "id": "c5390604",
   "metadata": {},
   "source": [
    "# BMI 실습"
   ]
  },
  {
   "cell_type": "code",
   "execution_count": 8,
   "id": "78d842b7",
   "metadata": {},
   "outputs": [
    {
     "data": {
      "text/plain": [
       "array([[175.2, 180.3, 175. , 169.2, 185.2, 188. , 177.6, 178.2, 177. ,\n",
       "        179. ],\n",
       "       [ 65.6,  88. ,  79.2,  69.3,  55. ,  71.2,  73. ,  68.9,  74. ,\n",
       "         82. ]])"
      ]
     },
     "execution_count": 8,
     "metadata": {},
     "output_type": "execute_result"
    }
   ],
   "source": [
    "# np.loadtxt( \"파일명.확장자\")\n",
    "#delimiter : 구분 기호\n",
    "data = np.loadtxt('height_weight.txt', delimiter=',')\n",
    "data"
   ]
  },
  {
   "attachments": {
    "image.png": {
     "image/png": "[encoded data removed]"
    }
   },
   "cell_type": "markdown",
   "id": "8cc313e9",
   "metadata": {},
   "source": [
    "![image.png](attachment:image.png)"
   ]
  },
  {
   "cell_type": "code",
   "execution_count": 46,
   "id": "5c84576d",
   "metadata": {},
   "outputs": [
    {
     "data": {
      "text/plain": [
       "(array([65.6, 88. , 79.2, 69.3, 55. , 71.2, 73. , 68.9, 74. , 82. ]),\n",
       " array([175.2, 180.3, 175. , 169.2, 185.2, 188. , 177.6, 178.2, 177. ,\n",
       "        179. ]))"
      ]
     },
     "execution_count": 46,
     "metadata": {},
     "output_type": "execute_result"
    }
   ],
   "source": [
    "# 1. data에서 키와 몸무게를 나누기!\n",
    "height = data[0]\n",
    "weight = data[1]\n",
    "weight, height"
   ]
  },
  {
   "cell_type": "code",
   "execution_count": 40,
   "id": "0c9816b1",
   "metadata": {},
   "outputs": [
    {
     "data": {
      "text/plain": [
       "array([1.752, 1.803, 1.75 , 1.692, 1.852, 1.88 , 1.776, 1.782, 1.77 ,\n",
       "       1.79 ])"
      ]
     },
     "execution_count": 40,
     "metadata": {},
     "output_type": "execute_result"
    }
   ],
   "source": [
    "# 2. 키(height 변수)를 cm -> m 단위로 바꾸기!\n",
    "# 1cm = 0.01m\n",
    "height_m = height * 0.01\n",
    "height_m"
   ]
  },
  {
   "cell_type": "code",
   "execution_count": 39,
   "id": "dda9169c",
   "metadata": {},
   "outputs": [
    {
     "data": {
      "text/plain": [
       "array([21.37153104, 27.07018468, 25.86122449, 24.20652885, 16.03543423,\n",
       "       20.14486193, 23.14392095, 21.69720651, 23.62028791, 25.59220998])"
      ]
     },
     "execution_count": 39,
     "metadata": {},
     "output_type": "execute_result"
    }
   ],
   "source": [
    "# 3. BMI 지수 구하기 (이미지 참고!)\n",
    "arr = weight / (height_m * height_m)\n",
    "arr"
   ]
  },
  {
   "cell_type": "markdown",
   "id": "40c5b22f",
   "metadata": {},
   "source": [
    "### Boolean 색인"
   ]
  },
  {
   "cell_type": "code",
   "execution_count": 48,
   "id": "328bf907",
   "metadata": {},
   "outputs": [
    {
     "data": {
      "text/plain": [
       "array([80, 43, 77])"
      ]
     },
     "execution_count": 48,
     "metadata": {},
     "output_type": "execute_result"
    }
   ],
   "source": [
    "score = np.array([80, 70, 65, 43, 77, 54])\n",
    "bool_li = [True, False, False, True, True, False]\n",
    "score[bool_li]"
   ]
  },
  {
   "cell_type": "code",
   "execution_count": 49,
   "id": "5f157c20",
   "metadata": {},
   "outputs": [
    {
     "data": {
      "text/plain": [
       "array([83, 73, 68, 46, 80, 57])"
      ]
     },
     "execution_count": 49,
     "metadata": {},
     "output_type": "execute_result"
    }
   ],
   "source": [
    "score+3"
   ]
  },
  {
   "cell_type": "code",
   "execution_count": 51,
   "id": "4c61d6f3",
   "metadata": {},
   "outputs": [],
   "source": [
    "bool_arr = score >= 60"
   ]
  },
  {
   "cell_type": "code",
   "execution_count": 52,
   "id": "9e5ef394",
   "metadata": {},
   "outputs": [
    {
     "data": {
      "text/plain": [
       "array([ True,  True,  True, False,  True, False])"
      ]
     },
     "execution_count": 52,
     "metadata": {},
     "output_type": "execute_result"
    }
   ],
   "source": [
    "bool_arr"
   ]
  },
  {
   "cell_type": "code",
   "execution_count": 53,
   "id": "8cc3d306",
   "metadata": {},
   "outputs": [
    {
     "data": {
      "text/plain": [
       "array([80, 70, 65, 77])"
      ]
     },
     "execution_count": 53,
     "metadata": {},
     "output_type": "execute_result"
    }
   ],
   "source": [
    "score[score>=60]"
   ]
  },
  {
   "cell_type": "markdown",
   "id": "70732e63",
   "metadata": {},
   "source": [
    "### 함수"
   ]
  },
  {
   "cell_type": "code",
   "execution_count": 56,
   "id": "e7c22e81",
   "metadata": {},
   "outputs": [
    {
     "data": {
      "text/plain": [
       "array([80, 70, 65, 43, 77, 54])"
      ]
     },
     "execution_count": 56,
     "metadata": {},
     "output_type": "execute_result"
    }
   ],
   "source": [
    "# 합계 구하기\n",
    "score = np.array([80, 0, 65, 43, 77, 54])\n",
    "print(score.sum())\n",
    "print(np,sum(score()))"
   ]
  },
  {
   "cell_type": "code",
   "execution_count": null,
   "id": "5fd9e450",
   "metadata": {},
   "outputs": [],
   "source": []
  },
  {
   "cell_type": "code",
   "execution_count": null,
   "id": "c0981fce",
   "metadata": {},
   "outputs": [],
   "source": []
  },
  {
   "cell_type": "code",
   "execution_count": null,
   "id": "bd26b87e",
   "metadata": {},
   "outputs": [],
   "source": []
  },
  {
   "cell_type": "code",
   "execution_count": null,
   "id": "b72899c3",
   "metadata": {},
   "outputs": [],
   "source": []
  },
  {
   "cell_type": "code",
   "execution_count": null,
   "id": "1e08c1fc",
   "metadata": {},
   "outputs": [],
   "source": []
  },
  {
   "cell_type": "code",
   "execution_count": null,
   "id": "960f7445",
   "metadata": {},
   "outputs": [],
   "source": []
  },
  {
   "cell_type": "code",
   "execution_count": null,
   "id": "61277aad",
   "metadata": {},
   "outputs": [],
   "source": []
  },
  {
   "cell_type": "code",
   "execution_count": null,
   "id": "6cdb7245",
   "metadata": {},
   "outputs": [],
   "source": []
  },
  {
   "cell_type": "code",
   "execution_count": null,
   "id": "1e51338e",
   "metadata": {},
   "outputs": [],
   "source": []
  },
  {
   "cell_type": "code",
   "execution_count": null,
   "id": "05835d3c",
   "metadata": {},
   "outputs": [],
   "source": []
  },
  {
   "cell_type": "code",
   "execution_count": null,
   "id": "508948e6",
   "metadata": {},
   "outputs": [],
   "source": []
  },
  {
   "cell_type": "code",
   "execution_count": null,
   "id": "2fe29bed",
   "metadata": {},
   "outputs": [],
   "source": []
  },
  {
   "cell_type": "code",
   "execution_count": null,
   "id": "c0132af6",
   "metadata": {},
   "outputs": [],
   "source": []
  },
  {
   "cell_type": "code",
   "execution_count": null,
   "id": "e84b65df",
   "metadata": {},
   "outputs": [],
   "source": []
  },
  {
   "cell_type": "code",
   "execution_count": null,
   "id": "414a84bf",
   "metadata": {},
   "outputs": [],
   "source": []
  },
  {
   "cell_type": "code",
   "execution_count": null,
   "id": "fa173249",
   "metadata": {},
   "outputs": [],
   "source": []
  },
  {
   "cell_type": "code",
   "execution_count": null,
   "id": "c5261f05",
   "metadata": {},
   "outputs": [],
   "source": []
  },
  {
   "cell_type": "code",
   "execution_count": null,
   "id": "9b076012",
   "metadata": {},
   "outputs": [],
   "source": []
  },
  {
   "cell_type": "code",
   "execution_count": null,
   "id": "2b1d66a9",
   "metadata": {},
   "outputs": [],
   "source": []
  },
  {
   "cell_type": "code",
   "execution_count": null,
   "id": "caee0437",
   "metadata": {},
   "outputs": [],
   "source": []
  },
  {
   "cell_type": "code",
   "execution_count": null,
   "id": "5266737e",
   "metadata": {},
   "outputs": [],
   "source": []
  },
  {
   "cell_type": "code",
   "execution_count": null,
   "id": "5d7d601e",
   "metadata": {},
   "outputs": [],
   "source": []
  },
  {
   "cell_type": "code",
   "execution_count": null,
   "id": "e90f1c62",
   "metadata": {},
   "outputs": [],
   "source": []
  },
  {
   "cell_type": "code",
   "execution_count": null,
   "id": "30a16656",
   "metadata": {},
   "outputs": [],
   "source": []
  },
  {
   "cell_type": "code",
   "execution_count": null,
   "id": "38dafd75",
   "metadata": {},
   "outputs": [],
   "source": []
  },
  {
   "cell_type": "code",
   "execution_count": null,
   "id": "0844f7db",
   "metadata": {},
   "outputs": [],
   "source": []
  },
  {
   "cell_type": "code",
   "execution_count": null,
   "id": "28ac1a24",
   "metadata": {},
   "outputs": [],
   "source": []
  },
  {
   "cell_type": "code",
   "execution_count": null,
   "id": "5ab83e36",
   "metadata": {},
   "outputs": [],
   "source": []
  }
 ],
 "metadata": {
  "kernelspec": {
   "display_name": "Python 3 (ipykernel)",
   "language": "python",
   "name": "python3"
  },
  "language_info": {
   "codemirror_mode": {
    "name": "ipython",
    "version": 3
   },
   "file_extension": ".py",
   "mimetype": "text/x-python",
   "name": "python",
   "nbconvert_exporter": "python",
   "pygments_lexer": "ipython3",
   "version": "3.10.9"
  }
 },
 "nbformat": 4,
 "nbformat_minor": 5
}
